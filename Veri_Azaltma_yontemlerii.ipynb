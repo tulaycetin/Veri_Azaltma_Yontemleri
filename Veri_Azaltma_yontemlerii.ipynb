{
  "cells": [
    {
      "cell_type": "markdown",
      "metadata": {
        "id": "view-in-github",
        "colab_type": "text"
      },
      "source": [
        "<a href=\"https://colab.research.google.com/github/tulaycetin/Veri_Azaltma_Yontemleri/blob/main/Veri_Azaltma_yontemlerii.ipynb\" target=\"_parent\"><img src=\"https://colab.research.google.com/assets/colab-badge.svg\" alt=\"Open In Colab\"/></a>"
      ]
    },
    {
      "cell_type": "markdown",
      "metadata": {
        "id": "K_N0NkEjnBMt"
      },
      "source": [
        "#**1. Kütüphanelerin Yüklenmesi**"
      ]
    },
    {
      "cell_type": "code",
      "execution_count": 46,
      "metadata": {
        "id": "A35yf9fZSYIv"
      },
      "outputs": [],
      "source": [
        "# Gerekli kütüphanelerin yüklenmesi\n",
        "import kagglehub\n",
        "import pandas as pd\n",
        "import numpy as np\n",
        "import missingno as msno\n",
        "import matplotlib.pyplot as plt\n",
        "from scipy.optimize import minimize\n",
        "from sklearn.model_selection import train_test_split\n",
        "from sklearn.tree import DecisionTreeClassifier\n",
        "from sklearn.metrics import mean_squared_error, mean_absolute_error, r2_score,auc\n",
        "from sklearn.metrics import confusion_matrix, accuracy_score, classification_report ,roc_curve,roc_auc_score"
      ]
    },
    {
      "cell_type": "markdown",
      "metadata": {
        "id": "01tv045CnH6e"
      },
      "source": [
        "# ***2. Veri Setinin İndirilmesi ve İlk İncelemesikalın metin***"
      ]
    },
    {
      "cell_type": "markdown",
      "metadata": {
        "id": "MqYqwrubXEqQ"
      },
      "source": [
        "Kaggle’dan NFL Play-by-Play (2009-2016) veri seti indirilir. Bu veri seti, NFL maçlarındaki her bir oyun anını detaylı olarak içerir.\n",
        "Bu veri seti, NFL maçlarındaki oyunların detaylı verilerini içerdiğinden, maçın kazanılıp kazanılmaması (örneğin, win probability) gibi durumların analizine olanak tanır.\n"
      ]
    },
    {
      "cell_type": "code",
      "execution_count": 33,
      "metadata": {
        "colab": {
          "base_uri": "https://localhost:8080/"
        },
        "id": "Ly6Cm2z2XAuT",
        "outputId": "1e50ef9b-b30c-4bbc-e654-e39143d13c84"
      },
      "outputs": [
        {
          "output_type": "stream",
          "name": "stdout",
          "text": [
            "Path to dataset files: /kaggle/input/nflplaybyplay2009to2016\n"
          ]
        }
      ],
      "source": [
        "# Veri Setini İndirme ve Ön İnceleme\n",
        "# ---------------------------\n",
        "# Kaggle veri setini indiriyoruz.\n",
        "path = kagglehub.dataset_download(\"maxhorowitz/nflplaybyplay2009to2016\")\n",
        "print(\"Path to dataset files:\", path)"
      ]
    },
    {
      "cell_type": "code",
      "execution_count": 34,
      "metadata": {
        "colab": {
          "base_uri": "https://localhost:8080/"
        },
        "id": "3xLrCXeYXAwu",
        "outputId": "ed56752a-cf17-412c-cc7c-85654c640d53"
      },
      "outputs": [
        {
          "output_type": "stream",
          "name": "stderr",
          "text": [
            "<ipython-input-34-62ee87502347>:2: DtypeWarning: Columns (25,51) have mixed types. Specify dtype option on import or set low_memory=False.\n",
            "  df = pd.read_csv(path + '/NFL Play by Play 2009-2017 (v4).csv')\n"
          ]
        },
        {
          "output_type": "stream",
          "name": "stdout",
          "text": [
            "İlk 5 satır:\n",
            "         Date      GameID  Drive  qtr  down   time  TimeUnder  TimeSecs  \\\n",
            "0  2009-09-10  2009091000      1    1   NaN  15:00         15    3600.0   \n",
            "1  2009-09-10  2009091000      1    1   1.0  14:53         15    3593.0   \n",
            "2  2009-09-10  2009091000      1    1   2.0  14:16         15    3556.0   \n",
            "3  2009-09-10  2009091000      1    1   3.0  13:35         14    3515.0   \n",
            "4  2009-09-10  2009091000      1    1   4.0  13:27         14    3507.0   \n",
            "\n",
            "   PlayTimeDiff SideofField  ...    yacEPA  Home_WP_pre  Away_WP_pre  \\\n",
            "0           0.0         TEN  ...       NaN     0.485675     0.514325   \n",
            "1           7.0         PIT  ...  1.146076     0.546433     0.453567   \n",
            "2          37.0         PIT  ...       NaN     0.551088     0.448912   \n",
            "3          41.0         PIT  ... -5.031425     0.510793     0.489207   \n",
            "4           8.0         PIT  ...       NaN     0.461217     0.538783   \n",
            "\n",
            "   Home_WP_post  Away_WP_post  Win_Prob       WPA    airWPA    yacWPA  Season  \n",
            "0      0.546433      0.453567  0.485675  0.060758       NaN       NaN    2009  \n",
            "1      0.551088      0.448912  0.546433  0.004655 -0.032244  0.036899    2009  \n",
            "2      0.510793      0.489207  0.551088 -0.040295       NaN       NaN    2009  \n",
            "3      0.461217      0.538783  0.510793 -0.049576  0.106663 -0.156239    2009  \n",
            "4      0.558929      0.441071  0.461217  0.097712       NaN       NaN    2009  \n",
            "\n",
            "[5 rows x 102 columns]\n"
          ]
        }
      ],
      "source": [
        "# CSV dosyasını okuyoruz.\n",
        "df = pd.read_csv(path + '/NFL Play by Play 2009-2017 (v4).csv')\n",
        "print(\"İlk 5 satır:\")\n",
        "print(df.head())"
      ]
    },
    {
      "cell_type": "code",
      "execution_count": 35,
      "metadata": {
        "colab": {
          "base_uri": "https://localhost:8080/"
        },
        "id": "Hg3wtNk_XfPh",
        "outputId": "126087af-e1c2-4375-fe94-1e463c34614f"
      },
      "outputs": [
        {
          "output_type": "stream",
          "name": "stdout",
          "text": [
            "Yeni örneklem boyutu: (5000, 102)\n"
          ]
        }
      ],
      "source": [
        "# Veri setinin 10,000 rastgele gözlemini alıyoruz.\n",
        "df = df.sample(n=5000, random_state=42)\n",
        "print(\"Yeni örneklem boyutu:\", df.shape)"
      ]
    },
    {
      "cell_type": "code",
      "execution_count": 36,
      "metadata": {
        "colab": {
          "base_uri": "https://localhost:8080/"
        },
        "id": "_AcKfnDeXAzQ",
        "outputId": "414e98fd-fc53-4ea8-a9a6-086afe531015"
      },
      "outputs": [
        {
          "output_type": "stream",
          "name": "stdout",
          "text": [
            "Eksik değerler:\n",
            "Date           0\n",
            "GameID         0\n",
            "Drive          0\n",
            "qtr            0\n",
            "down         728\n",
            "            ... \n",
            "Win_Prob     322\n",
            "WPA           58\n",
            "airWPA      3027\n",
            "yacWPA      3030\n",
            "Season         0\n",
            "Length: 102, dtype: int64\n"
          ]
        }
      ],
      "source": [
        "# Eksik değer sayısı\n",
        "print(\"Eksik değerler:\")\n",
        "print(df.isna().sum())"
      ]
    },
    {
      "cell_type": "markdown",
      "metadata": {
        "id": "-MSG7jEunaYN"
      },
      "source": [
        "# **3. Eksik Verilerin MICE Yöntemiyle Doldurulması**"
      ]
    },
    {
      "cell_type": "markdown",
      "metadata": {
        "id": "LwByiCjU4k_b"
      },
      "source": [
        "Sadece sayısal değişkenler (numeric_cols) üzerinde çalışıyoruz; çünkü IterativeImputer sürekli değişkenlerle en iyi sonuç verir.\n",
        "\n",
        "MICE (Multiple Imputation by Chained Equations) yaklaşımı: her bir eksik değerli sütunu diğer sütunlarla regresyon/probabilistik model kurarak sırayla doldurur. Bu, basit ortalama ya da medyan atamadan daha tutarlı sonuçlar verir."
      ]
    },
    {
      "cell_type": "code",
      "execution_count": 37,
      "metadata": {
        "id": "ZHYuUpskXA4J"
      },
      "outputs": [],
      "source": [
        "from sklearn.experimental import enable_iterative_imputer  # IterativeImputer'ı etkinleştirir.\n",
        "from sklearn.impute import IterativeImputer\n",
        "\n",
        "# Sadece sayısal sütunları seçiyoruz.\n",
        "numeric_cols = df.select_dtypes(include=[np.number]).columns\n",
        "df_numeric = df[numeric_cols]\n",
        "\n",
        "imputer = IterativeImputer(random_state=42)\n",
        "df_imputed = pd.DataFrame(imputer.fit_transform(df_numeric), columns=numeric_cols) #İmputer, df_numeric üzerindeki eksik verileri diğer sütunlarla ilişki kurarak doldurur.\n",
        ""
      ]
    },
    {
      "cell_type": "markdown",
      "metadata": {
        "id": "p6AcoGxrnrR9"
      },
      "source": [
        "# **4. Hedef ve Bağımsız Değişkenlerin Ayrılması**"
      ]
    },
    {
      "cell_type": "markdown",
      "metadata": {
        "id": "J_dQ2M6rn5ud"
      },
      "source": [
        "Touchdown hedef değişken olarak seçiliyor.\n",
        "\n",
        "Diğer tüm sayısal sütunlar bağımsız değişken."
      ]
    },
    {
      "cell_type": "code",
      "execution_count": 38,
      "metadata": {
        "id": "hEuLAcWkbupk"
      },
      "outputs": [],
      "source": [
        "\n",
        "y = (df_imputed['Win_Prob'] >= 0.5).astype(int)\n",
        "X = df_imputed.drop(columns=['Win_Prob'])\n"
      ]
    },
    {
      "cell_type": "markdown",
      "metadata": {
        "id": "4nizSHSNoDge"
      },
      "source": [
        "# **5. Özellik Ölçekleme (Eksik)**"
      ]
    },
    {
      "cell_type": "markdown",
      "metadata": {
        "id": "RZ6Vq1PsoLrU"
      },
      "source": [
        "SVM ve boyut indirgeme yöntemleri ölçek duyarlı olduğundan her özelliği “ortalama = 0, standart sapma = 1” olacak şekilde dönüştürüyoruz."
      ]
    },
    {
      "cell_type": "code",
      "execution_count": 39,
      "metadata": {
        "id": "fb50ssVAb_iI"
      },
      "outputs": [],
      "source": [
        "\n",
        "from sklearn.preprocessing import StandardScaler\n",
        "scaler = StandardScaler()\n",
        "X_scaled = scaler.fit_transform(X)\n"
      ]
    },
    {
      "cell_type": "markdown",
      "metadata": {
        "id": "AVEVhCDroQS1"
      },
      "source": [
        "# **6. PCA ile Boyut İndirgeme**"
      ]
    },
    {
      "cell_type": "markdown",
      "metadata": {
        "id": "MFnazzpmfBVm"
      },
      "source": [
        "PCA: Verideki varyansın %90’ını koruyacak şekilde boyut indirgeme yapıyor.\n",
        "\n",
        "Amaç: Gürültüyü azaltıp hesaplama yükünü hafifletmek.\n"
      ]
    },
    {
      "cell_type": "code",
      "execution_count": 40,
      "metadata": {
        "colab": {
          "base_uri": "https://localhost:8080/"
        },
        "id": "EY8bWQ8KXA_A",
        "outputId": "3b09ed0a-e36a-45d2-f042-00a8385dabde"
      },
      "outputs": [
        {
          "output_type": "stream",
          "name": "stdout",
          "text": [
            "PCA sonrası bileşen sayısı: 27\n"
          ]
        }
      ],
      "source": [
        "from sklearn.decomposition import PCA\n",
        "\n",
        "# PCA ile boyut indirgeme (varyansın %90'ını koru)\n",
        "pca = PCA(n_components=0.90, svd_solver='full')\n",
        "X_pca = pca.fit_transform(X_scaled)\n",
        "\n",
        "print(\"PCA sonrası bileşen sayısı:\", X_pca.shape[1])\n"
      ]
    },
    {
      "cell_type": "markdown",
      "metadata": {
        "id": "9WAON9B8ogzV"
      },
      "source": [
        "# **7. LDA ile Boyut İndirgeme**"
      ]
    },
    {
      "cell_type": "markdown",
      "metadata": {
        "id": "S1qowexHfL88"
      },
      "source": [
        "\n",
        "\n",
        "*   LDA: Sınıflar arası ayrımı maksimize eden doğrusal kombinasyonlar bulur.\n",
        "*  İkili sınıflandırma için en fazla 1 bileşen verir (sınıf sayısı − 1).\n",
        "\n"
      ]
    },
    {
      "cell_type": "code",
      "execution_count": 41,
      "metadata": {
        "colab": {
          "base_uri": "https://localhost:8080/"
        },
        "id": "JYBiIiclXBBF",
        "outputId": "f0795fa8-2060-4691-ac40-1bc863d361f5"
      },
      "outputs": [
        {
          "output_type": "stream",
          "name": "stdout",
          "text": [
            "LDA sonrası boyut sayısı: 1\n"
          ]
        }
      ],
      "source": [
        "# Win_Prob'u sınıfa çeviriyoruz (örnek: 0.5 üstü = 'kazanır')\n",
        "y_class = y.values\n",
        "\n",
        "from sklearn.discriminant_analysis import LinearDiscriminantAnalysis\n",
        "\n",
        "lda = LinearDiscriminantAnalysis()\n",
        "X_lda = lda.fit_transform(X_scaled, y_class)\n",
        "\n",
        "print(\"LDA sonrası boyut sayısı:\", X_lda.shape[1])\n"
      ]
    },
    {
      "cell_type": "markdown",
      "metadata": {
        "id": "dBeNXG2-otWT"
      },
      "source": [
        "# **8. Özellik Seçimi (SelectKBest + mutual_info_classif)**"
      ]
    },
    {
      "cell_type": "markdown",
      "metadata": {
        "id": "xiVvJRRsm8tn"
      },
      "source": [
        "Mutual information (karşılıklı bilgi) tabanlı en iyi 20 özelliği seçiyoruz. Bu, hedef değişkenle en fazla bağımlılığı taşıyan özellikleri belirler."
      ]
    },
    {
      "cell_type": "code",
      "execution_count": 42,
      "metadata": {
        "colab": {
          "base_uri": "https://localhost:8080/"
        },
        "id": "NF9kUlk_gdYM",
        "outputId": "4b3b1230-5045-4a20-88c6-b574f1b2d556"
      },
      "outputs": [
        {
          "output_type": "stream",
          "name": "stdout",
          "text": [
            "Seçilen öznitelikler:\n",
            " Index(['down', 'FieldGoalDistance', 'PosTeamScore', 'DefTeamScore',\n",
            "       'ScoreDiff', 'AbsScoreDiff', 'Opp_Field_Goal_Prob', 'Field_Goal_Prob',\n",
            "       'Touchdown_Prob', 'ExpPts', 'EPA', 'airEPA', 'yacEPA', 'Home_WP_pre',\n",
            "       'Away_WP_pre', 'Home_WP_post', 'Away_WP_post', 'WPA', 'airWPA',\n",
            "       'yacWPA'],\n",
            "      dtype='object')\n"
          ]
        }
      ],
      "source": [
        "from sklearn.feature_selection import SelectKBest, mutual_info_classif\n",
        "\n",
        "# En iyi 20 özelliği seçecek\n",
        "selector = SelectKBest(score_func=mutual_info_classif, k=20)\n",
        "X_selected = selector.fit_transform(X_scaled, y_class)\n",
        "\n",
        "# Seçilen sütun isimlerini görelim\n",
        "selected_columns = X.columns[selector.get_support()]\n",
        "print(\"Seçilen öznitelikler:\\n\", selected_columns)\n"
      ]
    },
    {
      "cell_type": "markdown",
      "source": [
        "# **Decision Tree**"
      ],
      "metadata": {
        "id": "eJ-cCICvbrRe"
      }
    },
    {
      "cell_type": "code",
      "source": [
        "from sklearn.tree import DecisionTreeClassifier\n",
        "\n",
        "def DTClassifierModel(X, y, threshold=0.5, name=\"Model\"):\n",
        "    # train/test split\n",
        "    # Fonksiyon içinde en başta:\n",
        "    if not isinstance(X, pd.DataFrame):\n",
        "        X = pd.DataFrame(X)\n",
        "\n",
        "    X_train, X_test, y_train, y_test = train_test_split(\n",
        "        X, y, test_size=0.2, random_state=42, stratify=y\n",
        "    )\n",
        "\n",
        "    # one-hot kodlama (gerekiyorsa)\n",
        "    X_train = pd.get_dummies(X_train, drop_first=True)\n",
        "    X_test  = pd.get_dummies(X_test, drop_first=True)\n",
        "    X_train, X_test = X_train.align(X_test, join='left', axis=1, fill_value=0)\n",
        "\n",
        "    # model\n",
        "    dt = DecisionTreeClassifier(\n",
        "        criterion='gini',\n",
        "        max_depth=None,\n",
        "        class_weight='balanced',\n",
        "        random_state=42\n",
        "    )\n",
        "    dt.fit(X_train, y_train)\n",
        "\n",
        "    # olasılık tahmini ve sınıf tahmini\n",
        "    y_proba = dt.predict_proba(X_test)[:, 1]\n",
        "    y_pred  = (y_proba >= threshold).astype(int)\n",
        "\n",
        "    # metrikler\n",
        "    acc     = accuracy_score(y_test, y_pred)\n",
        "    fpr, tpr, _ = roc_curve(y_test, y_proba)\n",
        "    roc_auc = auc(fpr, tpr)\n",
        "\n",
        "    print(f\"\\n==={name}===\\nAccuracy: {acc:.3f} — AUC: {roc_auc:.3f}\")\n",
        "    print(\"Confusion Matrix:\\n\", confusion_matrix(y_test, y_pred))\n",
        "    print(\"Classification Report:\\n\", classification_report(y_test, y_pred))\n",
        "\n",
        "    # ROC çizimi\n",
        "    plt.figure(figsize=(5,5))\n",
        "    plt.plot(fpr, tpr, label=f'{name} (AUC={roc_auc:.2f})')\n",
        "    plt.plot([0,1],[0,1],'--')\n",
        "    plt.title(f'ROC — {name}')\n",
        "    plt.xlabel('FPR'); plt.ylabel('TPR'); plt.legend(); plt.show()\n",
        "\n",
        "    return {'model': dt, 'accuracy': acc, 'auc': roc_auc}\n",
        "\n",
        "# --- (6) Tüm veri kümelerini değerlendir ---\n",
        "datasets = {\n",
        "    'Orijinal': X,\n",
        "    'PCA': X_pca,\n",
        "    'LDA': X_lda,\n",
        "    'SelectKBest(20)': X_selected\n",
        "}\n",
        "\n",
        "\n",
        "results_dt = {}\n",
        "for name, X_df in datasets.items():\n",
        "    results_dt[name] = DTClassifierModel(X_df, y, name=name)\n"
      ],
      "metadata": {
        "colab": {
          "base_uri": "https://localhost:8080/",
          "height": 1000
        },
        "id": "Hyt1q9eSbq7m",
        "outputId": "43ce92b0-b6ab-4da3-d353-960e811f85b3"
      },
      "execution_count": 47,
      "outputs": [
        {
          "output_type": "stream",
          "name": "stdout",
          "text": [
            "\n",
            "===Orijinal===\n",
            "Accuracy: 0.972 — AUC: 0.972\n",
            "Confusion Matrix:\n",
            " [[500  19]\n",
            " [  9 472]]\n",
            "Classification Report:\n",
            "               precision    recall  f1-score   support\n",
            "\n",
            "           0       0.98      0.96      0.97       519\n",
            "           1       0.96      0.98      0.97       481\n",
            "\n",
            "    accuracy                           0.97      1000\n",
            "   macro avg       0.97      0.97      0.97      1000\n",
            "weighted avg       0.97      0.97      0.97      1000\n",
            "\n"
          ]
        },
        {
          "output_type": "display_data",
          "data": {
            "text/plain": [
              "<Figure size 500x500 with 1 Axes>"
            ],
            "image/png": "[encoded data removed]"
          },
          "metadata": {}
        },
        {
          "output_type": "stream",
          "name": "stdout",
          "text": [
            "\n",
            "===PCA===\n",
            "Accuracy: 0.883 — AUC: 0.883\n",
            "Confusion Matrix:\n",
            " [[462  57]\n",
            " [ 60 421]]\n",
            "Classification Report:\n",
            "               precision    recall  f1-score   support\n",
            "\n",
            "           0       0.89      0.89      0.89       519\n",
            "           1       0.88      0.88      0.88       481\n",
            "\n",
            "    accuracy                           0.88      1000\n",
            "   macro avg       0.88      0.88      0.88      1000\n",
            "weighted avg       0.88      0.88      0.88      1000\n",
            "\n"
          ]
        },
        {
          "output_type": "display_data",
          "data": {
            "text/plain": [
              "<Figure size 500x500 with 1 Axes>"
            ],
            "image/png": "[encoded data removed]"
          },
          "metadata": {}
        },
        {
          "output_type": "stream",
          "name": "stdout",
          "text": [
            "\n",
            "===LDA===\n",
            "Accuracy: 0.923 — AUC: 0.923\n",
            "Confusion Matrix:\n",
            " [[474  45]\n",
            " [ 32 449]]\n",
            "Classification Report:\n",
            "               precision    recall  f1-score   support\n",
            "\n",
            "           0       0.94      0.91      0.92       519\n",
            "           1       0.91      0.93      0.92       481\n",
            "\n",
            "    accuracy                           0.92      1000\n",
            "   macro avg       0.92      0.92      0.92      1000\n",
            "weighted avg       0.92      0.92      0.92      1000\n",
            "\n"
          ]
        },
        {
          "output_type": "display_data",
          "data": {
            "text/plain": [
              "<Figure size 500x500 with 1 Axes>"
            ],
            "image/png": "[encoded data removed]"
          },
          "metadata": {}
        },
        {
          "output_type": "stream",
          "name": "stdout",
          "text": [
            "\n",
            "===SelectKBest(20)===\n",
            "Accuracy: 0.980 — AUC: 0.980\n",
            "Confusion Matrix:\n",
            " [[504  15]\n",
            " [  5 476]]\n",
            "Classification Report:\n",
            "               precision    recall  f1-score   support\n",
            "\n",
            "           0       0.99      0.97      0.98       519\n",
            "           1       0.97      0.99      0.98       481\n",
            "\n",
            "    accuracy                           0.98      1000\n",
            "   macro avg       0.98      0.98      0.98      1000\n",
            "weighted avg       0.98      0.98      0.98      1000\n",
            "\n"
          ]
        },
        {
          "output_type": "display_data",
          "data": {
            "text/plain": [
              "<Figure size 500x500 with 1 Axes>"
            ],
            "image/png": "[encoded data removed]"
          },
          "metadata": {}
        }
      ]
    },
    {
      "cell_type": "markdown",
      "source": [
        "| **Yöntem**              | **Accuracy** | **AUC**   |\n",
        "|---------------------|----------|-------|\n",
        "| Orijinal            | 0.972    | 0.972 |\n",
        "| PCA (%90 varyans)   | 0.883    | 0.883 |\n",
        "| LDA                 | 0.923    | 0.923 |\n",
        "| SelectKBest (20)    | 0.980    | 0.980 |"
      ],
      "metadata": {
        "id": "o6uaXOmSivc4"
      }
    }
  ],
  "metadata": {
    "colab": {
      "collapsed_sections": [
        "01tv045CnH6e"
      ],
      "provenance": [],
      "authorship_tag": "ABX9TyOhYslmias4IcClzet//+qa",
      "include_colab_link": true
    },
    "kernelspec": {
      "display_name": "Python 3",
      "name": "python3"
    },
    "language_info": {
      "name": "python"
    }
  },
  "nbformat": 4,
  "nbformat_minor": 0
}