{
  "nbformat": 4,
  "nbformat_minor": 0,
  "metadata": {
    "colab": {
      "provenance": [],
      "collapsed_sections": [
        "01tv045CnH6e",
        "-MSG7jEunaYN"
      ],
      "authorship_tag": "ABX9TyOrEK6l6tj3t50zIvtJAKlh",
      "include_colab_link": true
    },
    "kernelspec": {
      "name": "python3",
      "display_name": "Python 3"
    },
    "language_info": {
      "name": "python"
    }
  },
  "cells": [
    {
      "cell_type": "markdown",
      "metadata": {
        "id": "view-in-github",
        "colab_type": "text"
      },
      "source": [
        "<a href=\"https://colab.research.google.com/github/tulaycetin/Veri_Azaltma_Yontemleri/blob/main/Veri_Azaltma_yontemlerii.ipynb\" target=\"_parent\"><img src=\"https://colab.research.google.com/assets/colab-badge.svg\" alt=\"Open In Colab\"/></a>"
      ]
    },
    {
      "cell_type": "markdown",
      "source": [
        "#**1. Kütüphanelerin Yüklenmesi**"
      ],
      "metadata": {
        "id": "K_N0NkEjnBMt"
      }
    },
    {
      "cell_type": "code",
      "execution_count": 1,
      "metadata": {
        "id": "A35yf9fZSYIv"
      },
      "outputs": [],
      "source": [
        "# Gerekli kütüphanelerin yüklenmesi\n",
        "import kagglehub\n",
        "import pandas as pd\n",
        "import numpy as np\n",
        "import missingno as msno\n",
        "import matplotlib.pyplot as plt\n",
        "from scipy.optimize import minimize\n",
        "from sklearn.model_selection import train_test_split\n",
        "from sklearn.linear_model import LinearRegression\n",
        "from sklearn.metrics import mean_squared_error, mean_absolute_error, r2_score\n",
        "from sklearn.metrics import confusion_matrix, accuracy_score, classification_report"
      ]
    },
    {
      "cell_type": "markdown",
      "source": [
        "# ***2. Veri Setinin İndirilmesi ve İlk İncelemesikalın metin***"
      ],
      "metadata": {
        "id": "01tv045CnH6e"
      }
    },
    {
      "cell_type": "markdown",
      "source": [
        "Kaggle’dan NFL Play-by-Play (2009-2016) veri seti indirilir. Bu veri seti, NFL maçlarındaki her bir oyun anını detaylı olarak içerir.\n",
        "Bu veri seti, NFL maçlarındaki oyunların detaylı verilerini içerdiğinden, maçın kazanılıp kazanılmaması (örneğin, win probability) gibi durumların analizine olanak tanır.\n"
      ],
      "metadata": {
        "id": "MqYqwrubXEqQ"
      }
    },
    {
      "cell_type": "code",
      "source": [
        "# Veri Setini İndirme ve Ön İnceleme\n",
        "# ---------------------------\n",
        "# Kaggle veri setini indiriyoruz.\n",
        "path = kagglehub.dataset_download(\"maxhorowitz/nflplaybyplay2009to2016\")\n",
        "print(\"Path to dataset files:\", path)"
      ],
      "metadata": {
        "id": "Ly6Cm2z2XAuT",
        "colab": {
          "base_uri": "https://localhost:8080/"
        },
        "outputId": "865c4280-adc1-467e-dcf7-bfb8dd02d057"
      },
      "execution_count": 2,
      "outputs": [
        {
          "output_type": "stream",
          "name": "stdout",
          "text": [
            "Downloading from https://www.kaggle.com/api/v1/datasets/download/maxhorowitz/nflplaybyplay2009to2016?dataset_version_number=6...\n"
          ]
        },
        {
          "output_type": "stream",
          "name": "stderr",
          "text": [
            "100%|██████████| 274M/274M [00:02<00:00, 121MB/s]"
          ]
        },
        {
          "output_type": "stream",
          "name": "stdout",
          "text": [
            "Extracting files...\n"
          ]
        },
        {
          "output_type": "stream",
          "name": "stderr",
          "text": [
            "\n"
          ]
        },
        {
          "output_type": "stream",
          "name": "stdout",
          "text": [
            "Path to dataset files: /root/.cache/kagglehub/datasets/maxhorowitz/nflplaybyplay2009to2016/versions/6\n"
          ]
        }
      ]
    },
    {
      "cell_type": "code",
      "source": [
        "# CSV dosyasını okuyoruz.\n",
        "df = pd.read_csv(path + '/NFL Play by Play 2009-2017 (v4).csv')\n",
        "print(\"İlk 5 satır:\")\n",
        "print(df.head())"
      ],
      "metadata": {
        "id": "3xLrCXeYXAwu",
        "colab": {
          "base_uri": "https://localhost:8080/"
        },
        "outputId": "303e7b28-c990-4713-e84f-8274be9f7b6c"
      },
      "execution_count": 3,
      "outputs": [
        {
          "output_type": "stream",
          "name": "stderr",
          "text": [
            "<ipython-input-3-62ee87502347>:2: DtypeWarning: Columns (25,51) have mixed types. Specify dtype option on import or set low_memory=False.\n",
            "  df = pd.read_csv(path + '/NFL Play by Play 2009-2017 (v4).csv')\n"
          ]
        },
        {
          "output_type": "stream",
          "name": "stdout",
          "text": [
            "İlk 5 satır:\n",
            "         Date      GameID  Drive  qtr  down   time  TimeUnder  TimeSecs  \\\n",
            "0  2009-09-10  2009091000      1    1   NaN  15:00         15    3600.0   \n",
            "1  2009-09-10  2009091000      1    1   1.0  14:53         15    3593.0   \n",
            "2  2009-09-10  2009091000      1    1   2.0  14:16         15    3556.0   \n",
            "3  2009-09-10  2009091000      1    1   3.0  13:35         14    3515.0   \n",
            "4  2009-09-10  2009091000      1    1   4.0  13:27         14    3507.0   \n",
            "\n",
            "   PlayTimeDiff SideofField  ...    yacEPA  Home_WP_pre  Away_WP_pre  \\\n",
            "0           0.0         TEN  ...       NaN     0.485675     0.514325   \n",
            "1           7.0         PIT  ...  1.146076     0.546433     0.453567   \n",
            "2          37.0         PIT  ...       NaN     0.551088     0.448912   \n",
            "3          41.0         PIT  ... -5.031425     0.510793     0.489207   \n",
            "4           8.0         PIT  ...       NaN     0.461217     0.538783   \n",
            "\n",
            "   Home_WP_post  Away_WP_post  Win_Prob       WPA    airWPA    yacWPA  Season  \n",
            "0      0.546433      0.453567  0.485675  0.060758       NaN       NaN    2009  \n",
            "1      0.551088      0.448912  0.546433  0.004655 -0.032244  0.036899    2009  \n",
            "2      0.510793      0.489207  0.551088 -0.040295       NaN       NaN    2009  \n",
            "3      0.461217      0.538783  0.510793 -0.049576  0.106663 -0.156239    2009  \n",
            "4      0.558929      0.441071  0.461217  0.097712       NaN       NaN    2009  \n",
            "\n",
            "[5 rows x 102 columns]\n"
          ]
        }
      ]
    },
    {
      "cell_type": "code",
      "source": [
        "# Veri setinin 10,000 rastgele gözlemini alıyoruz.\n",
        "df = df.sample(n=30000, random_state=42)\n",
        "print(\"Yeni örneklem boyutu:\", df.shape)"
      ],
      "metadata": {
        "id": "Hg3wtNk_XfPh",
        "colab": {
          "base_uri": "https://localhost:8080/"
        },
        "outputId": "5edebde0-f430-41ed-c4bb-10a4b59976c6"
      },
      "execution_count": 4,
      "outputs": [
        {
          "output_type": "stream",
          "name": "stdout",
          "text": [
            "Yeni örneklem boyutu: (30000, 102)\n"
          ]
        }
      ]
    },
    {
      "cell_type": "code",
      "source": [
        "# Eksik değer sayısı\n",
        "print(\"Eksik değerler:\")\n",
        "print(df.isna().sum())"
      ],
      "metadata": {
        "id": "_AcKfnDeXAzQ",
        "colab": {
          "base_uri": "https://localhost:8080/"
        },
        "outputId": "2350d44f-45f8-4c56-db06-993738d649ae"
      },
      "execution_count": 5,
      "outputs": [
        {
          "output_type": "stream",
          "name": "stdout",
          "text": [
            "Eksik değerler:\n",
            "Date            0\n",
            "GameID          0\n",
            "Drive           0\n",
            "qtr             0\n",
            "down         4485\n",
            "            ...  \n",
            "Win_Prob     1837\n",
            "WPA           409\n",
            "airWPA      18354\n",
            "yacWPA      18370\n",
            "Season          0\n",
            "Length: 102, dtype: int64\n"
          ]
        }
      ]
    },
    {
      "cell_type": "markdown",
      "source": [
        "# **3. Eksik Verilerin MICE Yöntemiyle Doldurulmasıkalın metin**"
      ],
      "metadata": {
        "id": "-MSG7jEunaYN"
      }
    },
    {
      "cell_type": "markdown",
      "source": [
        "Sadece sayısal değişkenler (numeric_cols) üzerinde çalışıyoruz; çünkü IterativeImputer sürekli değişkenlerle en iyi sonuç verir.\n",
        "\n",
        "MICE (Multiple Imputation by Chained Equations) yaklaşımı: her bir eksik değerli sütunu diğer sütunlarla regresyon/probabilistik model kurarak sırayla doldurur. Bu, basit ortalama ya da medyan atamadan daha tutarlı sonuçlar verir."
      ],
      "metadata": {
        "id": "LwByiCjU4k_b"
      }
    },
    {
      "cell_type": "code",
      "source": [
        "from sklearn.experimental import enable_iterative_imputer  # IterativeImputer'ı etkinleştirir.\n",
        "from sklearn.impute import SimpleImputer\n",
        "\n",
        "# Sadece sayısal sütunları seçiyoruz.\n",
        "\"\"\"numeric_cols = df.select_dtypes(include=[np.number]).columns\n",
        "df_numeric = df[numeric_cols]\n",
        "\n",
        "imputer = IterativeImputer(random_state=42)\n",
        "df_imputed = pd.DataFrame(imputer.fit_transform(df_numeric), columns=numeric_cols) #İmputer, df_numeric üzerindeki eksik verileri diğer sütunlarla ilişki kurarak doldurur.\n",
        "\"\"\"\n",
        "numeric_cols = df.select_dtypes(include=[np.number]).columns\n",
        "df_numeric = df[numeric_cols]\n",
        "simple_imp = SimpleImputer(strategy='mean')    # ya da strategy='median'\n",
        "df_imputed_simple = pd.DataFrame(\n",
        "    simple_imp.fit_transform(df_numeric),\n",
        "    columns=numeric_cols\n",
        ")"
      ],
      "metadata": {
        "id": "ZHYuUpskXA4J"
      },
      "execution_count": 6,
      "outputs": []
    },
    {
      "cell_type": "markdown",
      "source": [
        "# **4. Hedef ve Bağımsız Değişkenlerin Ayrılması**"
      ],
      "metadata": {
        "id": "p6AcoGxrnrR9"
      }
    },
    {
      "cell_type": "markdown",
      "source": [
        "Touchdown hedef değişken olarak seçiliyor.\n",
        "\n",
        "Diğer tüm sayısal sütunlar bağımsız değişken."
      ],
      "metadata": {
        "id": "J_dQ2M6rn5ud"
      }
    },
    {
      "cell_type": "code",
      "source": [
        "# 3. Hedef ve Özellik Matrisi\n",
        "y = (df_imputed_simple['Touchdown'] >= 0.5).astype(int)\n",
        "X = df_imputed_simple.drop(columns=['Touchdown'])\n"
      ],
      "metadata": {
        "id": "hEuLAcWkbupk"
      },
      "execution_count": 7,
      "outputs": []
    },
    {
      "cell_type": "markdown",
      "source": [
        "# **5. Özellik Ölçekleme (Eksik)**"
      ],
      "metadata": {
        "id": "4nizSHSNoDge"
      }
    },
    {
      "cell_type": "markdown",
      "source": [
        "SVM ve boyut indirgeme yöntemleri ölçek duyarlı olduğundan her özelliği “ortalama = 0, standart sapma = 1” olacak şekilde dönüştürüyoruz."
      ],
      "metadata": {
        "id": "RZ6Vq1PsoLrU"
      }
    },
    {
      "cell_type": "code",
      "source": [
        "# 9) Özellik ölçeklendirme\n",
        "from sklearn.preprocessing import StandardScaler\n",
        "scaler = StandardScaler()\n",
        "X_scaled = scaler.fit_transform(X)\n"
      ],
      "metadata": {
        "id": "fb50ssVAb_iI"
      },
      "execution_count": 8,
      "outputs": []
    },
    {
      "cell_type": "markdown",
      "source": [
        "# **6. PCA ile Boyut İndirgeme**"
      ],
      "metadata": {
        "id": "AVEVhCDroQS1"
      }
    },
    {
      "cell_type": "markdown",
      "source": [
        "PCA: Verideki varyansın %90’ını koruyacak şekilde boyut indirgeme yapıyor.\n",
        "\n",
        "Amaç: Gürültüyü azaltıp hesaplama yükünü hafifletmek.\n"
      ],
      "metadata": {
        "id": "MFnazzpmfBVm"
      }
    },
    {
      "cell_type": "code",
      "source": [
        "from sklearn.decomposition import PCA\n",
        "\n",
        "# PCA ile boyut indirgeme (varyansın %90'ını koru)\n",
        "pca = PCA(n_components=0.80, svd_solver='full')\n",
        "X_pca = pca.fit_transform(X_scaled)\n",
        "\n",
        "print(\"PCA sonrası bileşen sayısı:\", X_pca.shape[1])\n"
      ],
      "metadata": {
        "colab": {
          "base_uri": "https://localhost:8080/"
        },
        "id": "EY8bWQ8KXA_A",
        "outputId": "104a2e74-8f86-4fdc-9628-ed623124dad5"
      },
      "execution_count": 9,
      "outputs": [
        {
          "output_type": "stream",
          "name": "stdout",
          "text": [
            "PCA sonrası bileşen sayısı: 21\n"
          ]
        }
      ]
    },
    {
      "cell_type": "markdown",
      "source": [
        "# **7. LDA ile Boyut İndirgeme**"
      ],
      "metadata": {
        "id": "9WAON9B8ogzV"
      }
    },
    {
      "cell_type": "markdown",
      "source": [
        "\n",
        "\n",
        "*   LDA: Sınıflar arası ayrımı maksimize eden doğrusal kombinasyonlar bulur.\n",
        "*  İkili sınıflandırma için en fazla 1 bileşen verir (sınıf sayısı − 1).\n",
        "\n"
      ],
      "metadata": {
        "id": "S1qowexHfL88"
      }
    },
    {
      "cell_type": "code",
      "source": [
        "# Win_Prob'u sınıfa çeviriyoruz (örnek: 0.5 üstü = 'kazanır')\n",
        "y_class = y.values\n",
        "\n",
        "from sklearn.discriminant_analysis import LinearDiscriminantAnalysis\n",
        "\n",
        "lda = LinearDiscriminantAnalysis()\n",
        "X_lda = lda.fit_transform(X_scaled, y_class)\n",
        "\n",
        "print(\"LDA sonrası boyut sayısı:\", X_lda.shape[1])\n"
      ],
      "metadata": {
        "colab": {
          "base_uri": "https://localhost:8080/"
        },
        "id": "JYBiIiclXBBF",
        "outputId": "a87961b5-8ce5-499e-d094-cfb559d44744"
      },
      "execution_count": 10,
      "outputs": [
        {
          "output_type": "stream",
          "name": "stdout",
          "text": [
            "LDA sonrası boyut sayısı: 1\n"
          ]
        }
      ]
    },
    {
      "cell_type": "markdown",
      "source": [
        "# **8. Özellik Seçimi (SelectKBest + mutual_info_classif)**"
      ],
      "metadata": {
        "id": "dBeNXG2-otWT"
      }
    },
    {
      "cell_type": "markdown",
      "source": [
        "Mutual information (karşılıklı bilgi) tabanlı en iyi 20 özelliği seçiyoruz. Bu, hedef değişkenle en fazla bağımlılığı taşıyan özellikleri belirler."
      ],
      "metadata": {
        "id": "xiVvJRRsm8tn"
      }
    },
    {
      "cell_type": "markdown",
      "source": [
        "# **Decision Tree**"
      ],
      "metadata": {
        "id": "CB58K4IAL7B-"
      }
    },
    {
      "cell_type": "code",
      "source": [
        "import pandas as pd\n",
        "import matplotlib.pyplot as plt\n",
        "\n",
        "from sklearn.model_selection import train_test_split\n",
        "from sklearn.tree import DecisionTreeClassifier\n",
        "from sklearn.metrics import (\n",
        "    accuracy_score,\n",
        "    roc_curve,\n",
        "    auc,\n",
        "    confusion_matrix,\n",
        "    classification_report\n",
        ")\n",
        "\n",
        "def DTClassifierModel(X, y, threshold=0.5, name=\"Model\"):\n",
        "    # train/test split\n",
        "    X_train, X_test, y_train, y_test = train_test_split(\n",
        "        X, y, test_size=0.2, random_state=42, stratify=y\n",
        "    )\n",
        "    # one-hot kodlama (gerekiyorsa)\n",
        "    X_train = pd.get_dummies(X_train, drop_first=True)\n",
        "    X_test  = pd.get_dummies(X_test, drop_first=True)\n",
        "    X_train, X_test = X_train.align(X_test, join='left', axis=1, fill_value=0)\n",
        "\n",
        "    # model\n",
        "    dt = DecisionTreeClassifier(\n",
        "        criterion='gini',\n",
        "        max_depth=None,\n",
        "        class_weight='balanced',\n",
        "        random_state=42\n",
        "    )\n",
        "    dt.fit(X_train, y_train)\n",
        "\n",
        "    # olasılık tahmini ve sınıf tahmini\n",
        "    y_proba = dt.predict_proba(X_test)[:, 1]\n",
        "    y_pred  = (y_proba >= threshold).astype(int)\n",
        "\n",
        "    # metrikler\n",
        "    acc     = accuracy_score(y_test, y_pred)\n",
        "    fpr, tpr, _ = roc_curve(y_test, y_proba)\n",
        "    roc_auc = auc(fpr, tpr)\n",
        "\n",
        "    print(f\"\\n==={name}===\\nAccuracy: {acc:.3f} — AUC: {roc_auc:.3f}\")\n",
        "    print(\"Confusion Matrix:\\n\", confusion_matrix(y_test, y_pred))\n",
        "    print(\"Classification Report:\\n\", classification_report(y_test, y_pred))\n",
        "\n",
        "    # ROC çizimi\n",
        "    plt.figure(figsize=(5,5))\n",
        "    plt.plot(fpr, tpr, label=f'{name} (AUC={roc_auc:.2f})')\n",
        "    plt.plot([0,1],[0,1],'--')\n",
        "    plt.title(f'ROC — {name}')\n",
        "    plt.xlabel('FPR'); plt.ylabel('TPR'); plt.legend(); plt.show()\n",
        "\n",
        "    return {'model': dt, 'accuracy': acc, 'auc': roc_auc}\n",
        "\n",
        "# --- (6) Tüm veri kümelerini değerlendir ---\n",
        "datasets = {\n",
        "    'Orijinal': X_orig,\n",
        "    'PCA': X_pca_df,\n",
        "    'LDA': X_lda_df,\n",
        "    'SelectKBest(20)': X_sel_df\n",
        "}\n",
        "\n",
        "results_dt = {}\n",
        "for name, X_df in datasets.items():\n",
        "    results_dt[name] = DTClassifierModel(X_df, y, name=name)\n"
      ],
      "metadata": {
        "id": "LeOGgmaIHxMd",
        "colab": {
          "base_uri": "https://localhost:8080/",
          "height": 1000
        },
        "outputId": "61fa4c8d-dff5-4866-bb64-eeddad85285e"
      },
      "execution_count": 18,
      "outputs": [
        {
          "output_type": "stream",
          "name": "stdout",
          "text": [
            "\n",
            "===Orijinal===\n",
            "Accuracy: 0.998 — AUC: 0.988\n",
            "Confusion Matrix:\n",
            " [[5827    6]\n",
            " [   4  163]]\n",
            "Classification Report:\n",
            "               precision    recall  f1-score   support\n",
            "\n",
            "           0       1.00      1.00      1.00      5833\n",
            "           1       0.96      0.98      0.97       167\n",
            "\n",
            "    accuracy                           1.00      6000\n",
            "   macro avg       0.98      0.99      0.98      6000\n",
            "weighted avg       1.00      1.00      1.00      6000\n",
            "\n"
          ]
        },
        {
          "output_type": "display_data",
          "data": {
            "text/plain": [
              "<Figure size 500x500 with 1 Axes>"
            ],
            "image/png": "[encoded data removed]"
          },
          "metadata": {}
        },
        {
          "output_type": "stream",
          "name": "stdout",
          "text": [
            "\n",
            "===PCA===\n",
            "Accuracy: 0.992 — AUC: 0.906\n",
            "Confusion Matrix:\n",
            " [[5815   18]\n",
            " [  31  136]]\n",
            "Classification Report:\n",
            "               precision    recall  f1-score   support\n",
            "\n",
            "           0       0.99      1.00      1.00      5833\n",
            "           1       0.88      0.81      0.85       167\n",
            "\n",
            "    accuracy                           0.99      6000\n",
            "   macro avg       0.94      0.91      0.92      6000\n",
            "weighted avg       0.99      0.99      0.99      6000\n",
            "\n"
          ]
        },
        {
          "output_type": "display_data",
          "data": {
            "text/plain": [
              "<Figure size 500x500 with 1 Axes>"
            ],
            "image/png": "[encoded data removed]"
          },
          "metadata": {}
        },
        {
          "output_type": "stream",
          "name": "stdout",
          "text": [
            "\n",
            "===LDA===\n",
            "Accuracy: 0.998 — AUC: 0.976\n",
            "Confusion Matrix:\n",
            " [[5828    5]\n",
            " [   8  159]]\n",
            "Classification Report:\n",
            "               precision    recall  f1-score   support\n",
            "\n",
            "           0       1.00      1.00      1.00      5833\n",
            "           1       0.97      0.95      0.96       167\n",
            "\n",
            "    accuracy                           1.00      6000\n",
            "   macro avg       0.98      0.98      0.98      6000\n",
            "weighted avg       1.00      1.00      1.00      6000\n",
            "\n"
          ]
        },
        {
          "output_type": "display_data",
          "data": {
            "text/plain": [
              "<Figure size 500x500 with 1 Axes>"
            ],
            "image/png": "[encoded data removed]"
          },
          "metadata": {}
        },
        {
          "output_type": "stream",
          "name": "stdout",
          "text": [
            "\n",
            "===SelectKBest(20)===\n",
            "Accuracy: 0.999 — AUC: 0.982\n",
            "Confusion Matrix:\n",
            " [[5831    2]\n",
            " [   6  161]]\n",
            "Classification Report:\n",
            "               precision    recall  f1-score   support\n",
            "\n",
            "           0       1.00      1.00      1.00      5833\n",
            "           1       0.99      0.96      0.98       167\n",
            "\n",
            "    accuracy                           1.00      6000\n",
            "   macro avg       0.99      0.98      0.99      6000\n",
            "weighted avg       1.00      1.00      1.00      6000\n",
            "\n"
          ]
        },
        {
          "output_type": "display_data",
          "data": {
            "text/plain": [
              "<Figure size 500x500 with 1 Axes>"
            ],
            "image/png": "[encoded data removed]"
          },
          "metadata": {}
        }
      ]
    },
    {
      "cell_type": "markdown",
      "source": [
        "| Özellik Seti       |   AUC (DT)  |Accuracy (DT)    |\n",
        "|--------------------|-----------  |---------------- |\n",
        "| Orijinal           | 0.988       |  0.998          |\n",
        "| PCA                | 0.906       | 0.992           |\n",
        "| LDA                | 0.976       |  0.998          |\n",
        "| SelectKBest (20)   | 0.982       |  0.999          |"
      ],
      "metadata": {
        "id": "ETbzyafLRlzI"
      }
    }
  ]
}