{
  "cells": [
    {
      "cell_type": "markdown",
      "metadata": {
        "id": "view-in-github",
        "colab_type": "text"
      },
      "source": [
        "<a href=\"https://colab.research.google.com/github/tulaycetin/Veri_Azaltma_Yontemleri/blob/main/Veri_Azaltma_yontemlerii.ipynb\" target=\"_parent\"><img src=\"https://colab.research.google.com/assets/colab-badge.svg\" alt=\"Open In Colab\"/></a>"
      ]
    },
    {
      "cell_type": "markdown",
      "metadata": {
        "id": "K_N0NkEjnBMt"
      },
      "source": [
        "#**1. Kütüphanelerin Yüklenmesi**"
      ]
    },
    {
      "cell_type": "code",
      "execution_count": 18,
      "metadata": {
        "id": "A35yf9fZSYIv"
      },
      "outputs": [],
      "source": [
        "# Gerekli kütüphanelerin yüklenmesi\n",
        "import kagglehub\n",
        "import pandas as pd\n",
        "import numpy as np\n",
        "import missingno as msno\n",
        "import matplotlib.pyplot as plt\n",
        "from scipy.optimize import minimize\n",
        "from sklearn.model_selection import train_test_split\n",
        "from sklearn.linear_model import LinearRegression\n",
        "from sklearn.metrics import mean_squared_error, mean_absolute_error, r2_score\n",
        "from sklearn.metrics import confusion_matrix, accuracy_score, classification_report"
      ]
    },
    {
      "cell_type": "markdown",
      "metadata": {
        "id": "01tv045CnH6e"
      },
      "source": [
        "# ***2. Veri Setinin İndirilmesi ve İlk İncelemesikalın metin***"
      ]
    },
    {
      "cell_type": "markdown",
      "metadata": {
        "id": "MqYqwrubXEqQ"
      },
      "source": [
        "Kaggle’dan NFL Play-by-Play (2009-2016) veri seti indirilir. Bu veri seti, NFL maçlarındaki her bir oyun anını detaylı olarak içerir.\n",
        "Bu veri seti, NFL maçlarındaki oyunların detaylı verilerini içerdiğinden, maçın kazanılıp kazanılmaması (örneğin, win probability) gibi durumların analizine olanak tanır.\n"
      ]
    },
    {
      "cell_type": "code",
      "execution_count": 19,
      "metadata": {
        "colab": {
          "base_uri": "https://localhost:8080/"
        },
        "id": "Ly6Cm2z2XAuT",
        "outputId": "78f530d8-38bc-4f06-ea9f-efae0ce7786c"
      },
      "outputs": [
        {
          "output_type": "stream",
          "name": "stdout",
          "text": [
            "Path to dataset files: /kaggle/input/nflplaybyplay2009to2016\n"
          ]
        }
      ],
      "source": [
        "# Veri Setini İndirme ve Ön İnceleme\n",
        "# ---------------------------\n",
        "# Kaggle veri setini indiriyoruz.\n",
        "path = kagglehub.dataset_download(\"maxhorowitz/nflplaybyplay2009to2016\")\n",
        "print(\"Path to dataset files:\", path)"
      ]
    },
    {
      "cell_type": "code",
      "execution_count": 20,
      "metadata": {
        "colab": {
          "base_uri": "https://localhost:8080/"
        },
        "id": "3xLrCXeYXAwu",
        "outputId": "fc43097a-a5a4-491a-e66e-718bede7ea5e"
      },
      "outputs": [
        {
          "output_type": "stream",
          "name": "stderr",
          "text": [
            "<ipython-input-20-62ee87502347>:2: DtypeWarning: Columns (25,51) have mixed types. Specify dtype option on import or set low_memory=False.\n",
            "  df = pd.read_csv(path + '/NFL Play by Play 2009-2017 (v4).csv')\n"
          ]
        },
        {
          "output_type": "stream",
          "name": "stdout",
          "text": [
            "İlk 5 satır:\n",
            "         Date      GameID  Drive  qtr  down   time  TimeUnder  TimeSecs  \\\n",
            "0  2009-09-10  2009091000      1    1   NaN  15:00         15    3600.0   \n",
            "1  2009-09-10  2009091000      1    1   1.0  14:53         15    3593.0   \n",
            "2  2009-09-10  2009091000      1    1   2.0  14:16         15    3556.0   \n",
            "3  2009-09-10  2009091000      1    1   3.0  13:35         14    3515.0   \n",
            "4  2009-09-10  2009091000      1    1   4.0  13:27         14    3507.0   \n",
            "\n",
            "   PlayTimeDiff SideofField  ...    yacEPA  Home_WP_pre  Away_WP_pre  \\\n",
            "0           0.0         TEN  ...       NaN     0.485675     0.514325   \n",
            "1           7.0         PIT  ...  1.146076     0.546433     0.453567   \n",
            "2          37.0         PIT  ...       NaN     0.551088     0.448912   \n",
            "3          41.0         PIT  ... -5.031425     0.510793     0.489207   \n",
            "4           8.0         PIT  ...       NaN     0.461217     0.538783   \n",
            "\n",
            "   Home_WP_post  Away_WP_post  Win_Prob       WPA    airWPA    yacWPA  Season  \n",
            "0      0.546433      0.453567  0.485675  0.060758       NaN       NaN    2009  \n",
            "1      0.551088      0.448912  0.546433  0.004655 -0.032244  0.036899    2009  \n",
            "2      0.510793      0.489207  0.551088 -0.040295       NaN       NaN    2009  \n",
            "3      0.461217      0.538783  0.510793 -0.049576  0.106663 -0.156239    2009  \n",
            "4      0.558929      0.441071  0.461217  0.097712       NaN       NaN    2009  \n",
            "\n",
            "[5 rows x 102 columns]\n"
          ]
        }
      ],
      "source": [
        "# CSV dosyasını okuyoruz.\n",
        "df = pd.read_csv(path + '/NFL Play by Play 2009-2017 (v4).csv')\n",
        "print(\"İlk 5 satır:\")\n",
        "print(df.head())"
      ]
    },
    {
      "cell_type": "code",
      "execution_count": 21,
      "metadata": {
        "colab": {
          "base_uri": "https://localhost:8080/"
        },
        "id": "Hg3wtNk_XfPh",
        "outputId": "d0811d14-fbda-4f63-beac-34e7edae63fc"
      },
      "outputs": [
        {
          "output_type": "stream",
          "name": "stdout",
          "text": [
            "Yeni örneklem boyutu: (5000, 102)\n"
          ]
        }
      ],
      "source": [
        "# Veri setinin 10,000 rastgele gözlemini alıyoruz.\n",
        "df = df.sample(n=5000, random_state=42)\n",
        "print(\"Yeni örneklem boyutu:\", df.shape)"
      ]
    },
    {
      "cell_type": "code",
      "execution_count": 22,
      "metadata": {
        "colab": {
          "base_uri": "https://localhost:8080/"
        },
        "id": "_AcKfnDeXAzQ",
        "outputId": "a8d59d41-a82e-49d4-ec39-c9cdd57ddeb6"
      },
      "outputs": [
        {
          "output_type": "stream",
          "name": "stdout",
          "text": [
            "Eksik değerler:\n",
            "Date           0\n",
            "GameID         0\n",
            "Drive          0\n",
            "qtr            0\n",
            "down         728\n",
            "            ... \n",
            "Win_Prob     322\n",
            "WPA           58\n",
            "airWPA      3027\n",
            "yacWPA      3030\n",
            "Season         0\n",
            "Length: 102, dtype: int64\n"
          ]
        }
      ],
      "source": [
        "# Eksik değer sayısı\n",
        "print(\"Eksik değerler:\")\n",
        "print(df.isna().sum())"
      ]
    },
    {
      "cell_type": "markdown",
      "metadata": {
        "id": "-MSG7jEunaYN"
      },
      "source": [
        "# **3. Eksik Verilerin MICE Yöntemiyle Doldurulması**"
      ]
    },
    {
      "cell_type": "markdown",
      "metadata": {
        "id": "LwByiCjU4k_b"
      },
      "source": [
        "Sadece sayısal değişkenler (numeric_cols) üzerinde çalışıyoruz; çünkü IterativeImputer sürekli değişkenlerle en iyi sonuç verir.\n",
        "\n",
        "MICE (Multiple Imputation by Chained Equations) yaklaşımı: her bir eksik değerli sütunu diğer sütunlarla regresyon/probabilistik model kurarak sırayla doldurur. Bu, basit ortalama ya da medyan atamadan daha tutarlı sonuçlar verir."
      ]
    },
    {
      "cell_type": "code",
      "execution_count": 23,
      "metadata": {
        "id": "ZHYuUpskXA4J"
      },
      "outputs": [],
      "source": [
        "from sklearn.experimental import enable_iterative_imputer  # IterativeImputer'ı etkinleştirir.\n",
        "from sklearn.impute import IterativeImputer\n",
        "\n",
        "# Sadece sayısal sütunları seçiyoruz.\n",
        "numeric_cols = df.select_dtypes(include=[np.number]).columns\n",
        "df_numeric = df[numeric_cols]\n",
        "\n",
        "imputer = IterativeImputer(random_state=42)\n",
        "df_imputed = pd.DataFrame(imputer.fit_transform(df_numeric), columns=numeric_cols) #İmputer, df_numeric üzerindeki eksik verileri diğer sütunlarla ilişki kurarak doldurur.\n",
        ""
      ]
    },
    {
      "cell_type": "markdown",
      "metadata": {
        "id": "p6AcoGxrnrR9"
      },
      "source": [
        "# **4. Hedef ve Bağımsız Değişkenlerin Ayrılması**"
      ]
    },
    {
      "cell_type": "markdown",
      "metadata": {
        "id": "J_dQ2M6rn5ud"
      },
      "source": [
        "Touchdown hedef değişken olarak seçiliyor.\n",
        "\n",
        "Diğer tüm sayısal sütunlar bağımsız değişken."
      ]
    },
    {
      "cell_type": "code",
      "execution_count": 24,
      "metadata": {
        "id": "hEuLAcWkbupk"
      },
      "outputs": [],
      "source": [
        "\n",
        "y = (df_imputed['Win_Prob'] >= 0.5).astype(int)\n",
        "X = df_imputed.drop(columns=['Win_Prob'])\n"
      ]
    },
    {
      "cell_type": "markdown",
      "metadata": {
        "id": "4nizSHSNoDge"
      },
      "source": [
        "# **5. Özellik Ölçekleme (Eksik)**"
      ]
    },
    {
      "cell_type": "markdown",
      "metadata": {
        "id": "RZ6Vq1PsoLrU"
      },
      "source": [
        "SVM ve boyut indirgeme yöntemleri ölçek duyarlı olduğundan her özelliği “ortalama = 0, standart sapma = 1” olacak şekilde dönüştürüyoruz."
      ]
    },
    {
      "cell_type": "code",
      "execution_count": 25,
      "metadata": {
        "id": "fb50ssVAb_iI"
      },
      "outputs": [],
      "source": [
        "\n",
        "from sklearn.preprocessing import StandardScaler\n",
        "scaler = StandardScaler()\n",
        "X_scaled = scaler.fit_transform(X)\n"
      ]
    },
    {
      "cell_type": "markdown",
      "metadata": {
        "id": "AVEVhCDroQS1"
      },
      "source": [
        "# **6. PCA ile Boyut İndirgeme**"
      ]
    },
    {
      "cell_type": "markdown",
      "metadata": {
        "id": "MFnazzpmfBVm"
      },
      "source": [
        "PCA: Verideki varyansın %90’ını koruyacak şekilde boyut indirgeme yapıyor.\n",
        "\n",
        "Amaç: Gürültüyü azaltıp hesaplama yükünü hafifletmek.\n"
      ]
    },
    {
      "cell_type": "code",
      "execution_count": 26,
      "metadata": {
        "colab": {
          "base_uri": "https://localhost:8080/"
        },
        "id": "EY8bWQ8KXA_A",
        "outputId": "cee776d4-4c2a-4e42-8c2b-910f4ef9d141"
      },
      "outputs": [
        {
          "output_type": "stream",
          "name": "stdout",
          "text": [
            "PCA sonrası bileşen sayısı: 27\n"
          ]
        }
      ],
      "source": [
        "from sklearn.decomposition import PCA\n",
        "\n",
        "# PCA ile boyut indirgeme (varyansın %90'ını koru)\n",
        "pca = PCA(n_components=0.90, svd_solver='full')\n",
        "X_pca = pca.fit_transform(X_scaled)\n",
        "\n",
        "print(\"PCA sonrası bileşen sayısı:\", X_pca.shape[1])\n"
      ]
    },
    {
      "cell_type": "markdown",
      "metadata": {
        "id": "9WAON9B8ogzV"
      },
      "source": [
        "# **7. LDA ile Boyut İndirgeme**"
      ]
    },
    {
      "cell_type": "markdown",
      "metadata": {
        "id": "S1qowexHfL88"
      },
      "source": [
        "\n",
        "\n",
        "*   LDA: Sınıflar arası ayrımı maksimize eden doğrusal kombinasyonlar bulur.\n",
        "*  İkili sınıflandırma için en fazla 1 bileşen verir (sınıf sayısı − 1).\n",
        "\n"
      ]
    },
    {
      "cell_type": "code",
      "execution_count": 27,
      "metadata": {
        "colab": {
          "base_uri": "https://localhost:8080/"
        },
        "id": "JYBiIiclXBBF",
        "outputId": "24167720-492a-476d-d2d1-0a244cd71c16"
      },
      "outputs": [
        {
          "output_type": "stream",
          "name": "stdout",
          "text": [
            "LDA sonrası boyut sayısı: 1\n"
          ]
        }
      ],
      "source": [
        "# Win_Prob'u sınıfa çeviriyoruz (örnek: 0.5 üstü = 'kazanır')\n",
        "y_class = y.values\n",
        "\n",
        "from sklearn.discriminant_analysis import LinearDiscriminantAnalysis\n",
        "\n",
        "lda = LinearDiscriminantAnalysis()\n",
        "X_lda = lda.fit_transform(X_scaled, y_class)\n",
        "\n",
        "print(\"LDA sonrası boyut sayısı:\", X_lda.shape[1])\n"
      ]
    },
    {
      "cell_type": "markdown",
      "metadata": {
        "id": "dBeNXG2-otWT"
      },
      "source": [
        "# **8. Özellik Seçimi (SelectKBest + mutual_info_classif)**"
      ]
    },
    {
      "cell_type": "markdown",
      "metadata": {
        "id": "xiVvJRRsm8tn"
      },
      "source": [
        "Mutual information (karşılıklı bilgi) tabanlı en iyi 20 özelliği seçiyoruz. Bu, hedef değişkenle en fazla bağımlılığı taşıyan özellikleri belirler."
      ]
    },
    {
      "cell_type": "code",
      "execution_count": 28,
      "metadata": {
        "colab": {
          "base_uri": "https://localhost:8080/"
        },
        "id": "NF9kUlk_gdYM",
        "outputId": "f4865a41-cc07-4edf-d299-6d735031a53f"
      },
      "outputs": [
        {
          "output_type": "stream",
          "name": "stdout",
          "text": [
            "Seçilen öznitelikler:\n",
            " Index(['down', 'RushAttempt', 'FieldGoalDistance', 'PosTeamScore',\n",
            "       'DefTeamScore', 'ScoreDiff', 'AbsScoreDiff', 'Opp_Field_Goal_Prob',\n",
            "       'Field_Goal_Prob', 'Touchdown_Prob', 'ExpPts', 'airEPA', 'yacEPA',\n",
            "       'Home_WP_pre', 'Away_WP_pre', 'Home_WP_post', 'Away_WP_post', 'WPA',\n",
            "       'airWPA', 'yacWPA'],\n",
            "      dtype='object')\n"
          ]
        }
      ],
      "source": [
        "from sklearn.feature_selection import SelectKBest, mutual_info_classif\n",
        "\n",
        "# En iyi 20 özelliği seçecek\n",
        "selector = SelectKBest(score_func=mutual_info_classif, k=20)\n",
        "X_selected = selector.fit_transform(X_scaled, y_class)\n",
        "\n",
        "# Seçilen sütun isimlerini görelim\n",
        "selected_columns = X.columns[selector.get_support()]\n",
        "print(\"Seçilen öznitelikler:\\n\", selected_columns)\n"
      ]
    },
    {
      "cell_type": "markdown",
      "source": [
        "# **Decision Tree**"
      ],
      "metadata": {
        "id": "eJ-cCICvbrRe"
      }
    },
    {
      "cell_type": "code",
      "source": [
        "def DTClassifierModel(X, y, threshold=0.5, name=\"Model\"):\n",
        "    # train/test split\n",
        "    X_train, X_test, y_train, y_test = train_test_split(\n",
        "        X, y, test_size=0.2, random_state=42, stratify=y\n",
        "    )\n",
        "    # one-hot kodlama (gerekiyorsa)\n",
        "    X_train = pd.get_dummies(X_train, drop_first=True)\n",
        "    X_test  = pd.get_dummies(X_test, drop_first=True)\n",
        "    X_train, X_test = X_train.align(X_test, join='left', axis=1, fill_value=0)\n",
        "\n",
        "    # model\n",
        "    dt = DecisionTreeClassifier(\n",
        "        criterion='gini',\n",
        "        max_depth=None,\n",
        "        class_weight='balanced',\n",
        "        random_state=42\n",
        "    )\n",
        "    dt.fit(X_train, y_train)\n",
        "\n",
        "    # olasılık tahmini ve sınıf tahmini\n",
        "    y_proba = dt.predict_proba(X_test)[:, 1]\n",
        "    y_pred  = (y_proba >= threshold).astype(int)\n",
        "\n",
        "    # metrikler\n",
        "    acc     = accuracy_score(y_test, y_pred)\n",
        "    fpr, tpr, _ = roc_curve(y_test, y_proba)\n",
        "    roc_auc = auc(fpr, tpr)\n",
        "\n",
        "    print(f\"\\n==={name}===\\nAccuracy: {acc:.3f} — AUC: {roc_auc:.3f}\")\n",
        "    print(\"Confusion Matrix:\\n\", confusion_matrix(y_test, y_pred))\n",
        "    print(\"Classification Report:\\n\", classification_report(y_test, y_pred))\n",
        "\n",
        "    # ROC çizimi\n",
        "    plt.figure(figsize=(5,5))\n",
        "    plt.plot(fpr, tpr, label=f'{name} (AUC={roc_auc:.2f})')\n",
        "    plt.plot([0,1],[0,1],'--')\n",
        "    plt.title(f'ROC — {name}')\n",
        "    plt.xlabel('FPR'); plt.ylabel('TPR'); plt.legend(); plt.show()\n",
        "\n",
        "    return {'model': dt, 'accuracy': acc, 'auc': roc_auc}\n",
        "\n",
        "# --- (6) Tüm veri kümelerini değerlendir ---\n",
        "datasets = {\n",
        "    'Orijinal': X ,\n",
        "    'PCA': X_pca ,\n",
        "    'LDA': X_lda ,\n",
        "    'SelectKBest(20)': X_selected\n",
        "}\n",
        "\n",
        "results_dt = {}\n",
        "for name, X_df in datasets.items():\n",
        "    results_dt[name] = DTClassifierModel(X_df, y, name=name)\n"
      ],
      "metadata": {
        "colab": {
          "base_uri": "https://localhost:8080/",
          "height": 1000
        },
        "id": "Hyt1q9eSbq7m",
        "outputId": "35d3d09e-82c1-4339-e901-ea2995a11361"
      },
      "execution_count": 30,
      "outputs": [
        {
          "output_type": "stream",
          "name": "stdout",
          "text": [
            "\n",
            "===Orijinal===\n",
            "Accuracy: 0.972 — AUC: 0.972\n",
            "Confusion Matrix:\n",
            " [[500  19]\n",
            " [  9 472]]\n",
            "Classification Report:\n",
            "               precision    recall  f1-score   support\n",
            "\n",
            "           0       0.98      0.96      0.97       519\n",
            "           1       0.96      0.98      0.97       481\n",
            "\n",
            "    accuracy                           0.97      1000\n",
            "   macro avg       0.97      0.97      0.97      1000\n",
            "weighted avg       0.97      0.97      0.97      1000\n",
            "\n"
          ]
        },
        {
          "output_type": "display_data",
          "data": {
            "text/plain": [
              "<Figure size 500x500 with 1 Axes>"
            ],
            "image/png": "[encoded data removed]"
          },
          "metadata": {}
        },
        {
          "output_type": "error",
          "ename": "ValueError",
          "evalue": "Data must be 1-dimensional, got ndarray of shape (4000, 27) instead",
          "traceback": [
            "\u001b[0;31m---------------------------------------------------------------------------\u001b[0m",
            "\u001b[0;31mValueError\u001b[0m                                Traceback (most recent call last)",
            "\u001b[0;32m<ipython-input-30-518def26e5c4>\u001b[0m in \u001b[0;36m<cell line: 0>\u001b[0;34m()\u001b[0m\n\u001b[1;32m     50\u001b[0m \u001b[0mresults_dt\u001b[0m \u001b[0;34m=\u001b[0m \u001b[0;34m{\u001b[0m\u001b[0;34m}\u001b[0m\u001b[0;34m\u001b[0m\u001b[0;34m\u001b[0m\u001b[0m\n\u001b[1;32m     51\u001b[0m \u001b[0;32mfor\u001b[0m \u001b[0mname\u001b[0m\u001b[0;34m,\u001b[0m \u001b[0mX_df\u001b[0m \u001b[0;32min\u001b[0m \u001b[0mdatasets\u001b[0m\u001b[0;34m.\u001b[0m\u001b[0mitems\u001b[0m\u001b[0;34m(\u001b[0m\u001b[0;34m)\u001b[0m\u001b[0;34m:\u001b[0m\u001b[0;34m\u001b[0m\u001b[0;34m\u001b[0m\u001b[0m\n\u001b[0;32m---> 52\u001b[0;31m     \u001b[0mresults_dt\u001b[0m\u001b[0;34m[\u001b[0m\u001b[0mname\u001b[0m\u001b[0;34m]\u001b[0m \u001b[0;34m=\u001b[0m \u001b[0mDTClassifierModel\u001b[0m\u001b[0;34m(\u001b[0m\u001b[0mX_df\u001b[0m\u001b[0;34m,\u001b[0m \u001b[0my\u001b[0m\u001b[0;34m,\u001b[0m \u001b[0mname\u001b[0m\u001b[0;34m=\u001b[0m\u001b[0mname\u001b[0m\u001b[0;34m)\u001b[0m\u001b[0;34m\u001b[0m\u001b[0;34m\u001b[0m\u001b[0m\n\u001b[0m",
            "\u001b[0;32m<ipython-input-30-518def26e5c4>\u001b[0m in \u001b[0;36mDTClassifierModel\u001b[0;34m(X, y, threshold, name)\u001b[0m\n\u001b[1;32m      5\u001b[0m     )\n\u001b[1;32m      6\u001b[0m     \u001b[0;31m# one-hot kodlama (gerekiyorsa)\u001b[0m\u001b[0;34m\u001b[0m\u001b[0;34m\u001b[0m\u001b[0m\n\u001b[0;32m----> 7\u001b[0;31m     \u001b[0mX_train\u001b[0m \u001b[0;34m=\u001b[0m \u001b[0mpd\u001b[0m\u001b[0;34m.\u001b[0m\u001b[0mget_dummies\u001b[0m\u001b[0;34m(\u001b[0m\u001b[0mX_train\u001b[0m\u001b[0;34m,\u001b[0m \u001b[0mdrop_first\u001b[0m\u001b[0;34m=\u001b[0m\u001b[0;32mTrue\u001b[0m\u001b[0;34m)\u001b[0m\u001b[0;34m\u001b[0m\u001b[0;34m\u001b[0m\u001b[0m\n\u001b[0m\u001b[1;32m      8\u001b[0m     \u001b[0mX_test\u001b[0m  \u001b[0;34m=\u001b[0m \u001b[0mpd\u001b[0m\u001b[0;34m.\u001b[0m\u001b[0mget_dummies\u001b[0m\u001b[0;34m(\u001b[0m\u001b[0mX_test\u001b[0m\u001b[0;34m,\u001b[0m \u001b[0mdrop_first\u001b[0m\u001b[0;34m=\u001b[0m\u001b[0;32mTrue\u001b[0m\u001b[0;34m)\u001b[0m\u001b[0;34m\u001b[0m\u001b[0;34m\u001b[0m\u001b[0m\n\u001b[1;32m      9\u001b[0m     \u001b[0mX_train\u001b[0m\u001b[0;34m,\u001b[0m \u001b[0mX_test\u001b[0m \u001b[0;34m=\u001b[0m \u001b[0mX_train\u001b[0m\u001b[0;34m.\u001b[0m\u001b[0malign\u001b[0m\u001b[0;34m(\u001b[0m\u001b[0mX_test\u001b[0m\u001b[0;34m,\u001b[0m \u001b[0mjoin\u001b[0m\u001b[0;34m=\u001b[0m\u001b[0;34m'left'\u001b[0m\u001b[0;34m,\u001b[0m \u001b[0maxis\u001b[0m\u001b[0;34m=\u001b[0m\u001b[0;36m1\u001b[0m\u001b[0;34m,\u001b[0m \u001b[0mfill_value\u001b[0m\u001b[0;34m=\u001b[0m\u001b[0;36m0\u001b[0m\u001b[0;34m)\u001b[0m\u001b[0;34m\u001b[0m\u001b[0;34m\u001b[0m\u001b[0m\n",
            "\u001b[0;32m/usr/local/lib/python3.11/dist-packages/pandas/core/reshape/encoding.py\u001b[0m in \u001b[0;36mget_dummies\u001b[0;34m(data, prefix, prefix_sep, dummy_na, columns, sparse, drop_first, dtype)\u001b[0m\n\u001b[1;32m    224\u001b[0m         \u001b[0mresult\u001b[0m \u001b[0;34m=\u001b[0m \u001b[0mconcat\u001b[0m\u001b[0;34m(\u001b[0m\u001b[0mwith_dummies\u001b[0m\u001b[0;34m,\u001b[0m \u001b[0maxis\u001b[0m\u001b[0;34m=\u001b[0m\u001b[0;36m1\u001b[0m\u001b[0;34m)\u001b[0m\u001b[0;34m\u001b[0m\u001b[0;34m\u001b[0m\u001b[0m\n\u001b[1;32m    225\u001b[0m     \u001b[0;32melse\u001b[0m\u001b[0;34m:\u001b[0m\u001b[0;34m\u001b[0m\u001b[0;34m\u001b[0m\u001b[0m\n\u001b[0;32m--> 226\u001b[0;31m         result = _get_dummies_1d(\n\u001b[0m\u001b[1;32m    227\u001b[0m             \u001b[0mdata\u001b[0m\u001b[0;34m,\u001b[0m\u001b[0;34m\u001b[0m\u001b[0;34m\u001b[0m\u001b[0m\n\u001b[1;32m    228\u001b[0m             \u001b[0mprefix\u001b[0m\u001b[0;34m,\u001b[0m\u001b[0;34m\u001b[0m\u001b[0;34m\u001b[0m\u001b[0m\n",
            "\u001b[0;32m/usr/local/lib/python3.11/dist-packages/pandas/core/reshape/encoding.py\u001b[0m in \u001b[0;36m_get_dummies_1d\u001b[0;34m(data, prefix, prefix_sep, dummy_na, sparse, drop_first, dtype)\u001b[0m\n\u001b[1;32m    248\u001b[0m \u001b[0;34m\u001b[0m\u001b[0m\n\u001b[1;32m    249\u001b[0m     \u001b[0;31m# Series avoids inconsistent NaN handling\u001b[0m\u001b[0;34m\u001b[0m\u001b[0;34m\u001b[0m\u001b[0m\n\u001b[0;32m--> 250\u001b[0;31m     \u001b[0mcodes\u001b[0m\u001b[0;34m,\u001b[0m \u001b[0mlevels\u001b[0m \u001b[0;34m=\u001b[0m \u001b[0mfactorize_from_iterable\u001b[0m\u001b[0;34m(\u001b[0m\u001b[0mSeries\u001b[0m\u001b[0;34m(\u001b[0m\u001b[0mdata\u001b[0m\u001b[0;34m,\u001b[0m \u001b[0mcopy\u001b[0m\u001b[0;34m=\u001b[0m\u001b[0;32mFalse\u001b[0m\u001b[0;34m)\u001b[0m\u001b[0;34m)\u001b[0m\u001b[0;34m\u001b[0m\u001b[0;34m\u001b[0m\u001b[0m\n\u001b[0m\u001b[1;32m    251\u001b[0m \u001b[0;34m\u001b[0m\u001b[0m\n\u001b[1;32m    252\u001b[0m     \u001b[0;32mif\u001b[0m \u001b[0mdtype\u001b[0m \u001b[0;32mis\u001b[0m \u001b[0;32mNone\u001b[0m \u001b[0;32mand\u001b[0m \u001b[0mhasattr\u001b[0m\u001b[0;34m(\u001b[0m\u001b[0mdata\u001b[0m\u001b[0;34m,\u001b[0m \u001b[0;34m\"dtype\"\u001b[0m\u001b[0;34m)\u001b[0m\u001b[0;34m:\u001b[0m\u001b[0;34m\u001b[0m\u001b[0;34m\u001b[0m\u001b[0m\n",
            "\u001b[0;32m/usr/local/lib/python3.11/dist-packages/pandas/core/series.py\u001b[0m in \u001b[0;36m__init__\u001b[0;34m(self, data, index, dtype, name, copy, fastpath)\u001b[0m\n\u001b[1;32m    582\u001b[0m                 \u001b[0mdata\u001b[0m \u001b[0;34m=\u001b[0m \u001b[0mdata\u001b[0m\u001b[0;34m.\u001b[0m\u001b[0mcopy\u001b[0m\u001b[0;34m(\u001b[0m\u001b[0;34m)\u001b[0m\u001b[0;34m\u001b[0m\u001b[0;34m\u001b[0m\u001b[0m\n\u001b[1;32m    583\u001b[0m         \u001b[0;32melse\u001b[0m\u001b[0;34m:\u001b[0m\u001b[0;34m\u001b[0m\u001b[0;34m\u001b[0m\u001b[0m\n\u001b[0;32m--> 584\u001b[0;31m             \u001b[0mdata\u001b[0m \u001b[0;34m=\u001b[0m \u001b[0msanitize_array\u001b[0m\u001b[0;34m(\u001b[0m\u001b[0mdata\u001b[0m\u001b[0;34m,\u001b[0m \u001b[0mindex\u001b[0m\u001b[0;34m,\u001b[0m \u001b[0mdtype\u001b[0m\u001b[0;34m,\u001b[0m \u001b[0mcopy\u001b[0m\u001b[0;34m)\u001b[0m\u001b[0;34m\u001b[0m\u001b[0;34m\u001b[0m\u001b[0m\n\u001b[0m\u001b[1;32m    585\u001b[0m \u001b[0;34m\u001b[0m\u001b[0m\n\u001b[1;32m    586\u001b[0m             \u001b[0mmanager\u001b[0m \u001b[0;34m=\u001b[0m \u001b[0m_get_option\u001b[0m\u001b[0;34m(\u001b[0m\u001b[0;34m\"mode.data_manager\"\u001b[0m\u001b[0;34m,\u001b[0m \u001b[0msilent\u001b[0m\u001b[0;34m=\u001b[0m\u001b[0;32mTrue\u001b[0m\u001b[0;34m)\u001b[0m\u001b[0;34m\u001b[0m\u001b[0;34m\u001b[0m\u001b[0m\n",
            "\u001b[0;32m/usr/local/lib/python3.11/dist-packages/pandas/core/construction.py\u001b[0m in \u001b[0;36msanitize_array\u001b[0;34m(data, index, dtype, copy, allow_2d)\u001b[0m\n\u001b[1;32m    657\u001b[0m                 \u001b[0msubarr\u001b[0m \u001b[0;34m=\u001b[0m \u001b[0mmaybe_infer_to_datetimelike\u001b[0m\u001b[0;34m(\u001b[0m\u001b[0msubarr\u001b[0m\u001b[0;34m)\u001b[0m\u001b[0;34m\u001b[0m\u001b[0;34m\u001b[0m\u001b[0m\n\u001b[1;32m    658\u001b[0m \u001b[0;34m\u001b[0m\u001b[0m\n\u001b[0;32m--> 659\u001b[0;31m     \u001b[0msubarr\u001b[0m \u001b[0;34m=\u001b[0m \u001b[0m_sanitize_ndim\u001b[0m\u001b[0;34m(\u001b[0m\u001b[0msubarr\u001b[0m\u001b[0;34m,\u001b[0m \u001b[0mdata\u001b[0m\u001b[0;34m,\u001b[0m \u001b[0mdtype\u001b[0m\u001b[0;34m,\u001b[0m \u001b[0mindex\u001b[0m\u001b[0;34m,\u001b[0m \u001b[0mallow_2d\u001b[0m\u001b[0;34m=\u001b[0m\u001b[0mallow_2d\u001b[0m\u001b[0;34m)\u001b[0m\u001b[0;34m\u001b[0m\u001b[0;34m\u001b[0m\u001b[0m\n\u001b[0m\u001b[1;32m    660\u001b[0m \u001b[0;34m\u001b[0m\u001b[0m\n\u001b[1;32m    661\u001b[0m     \u001b[0;32mif\u001b[0m \u001b[0misinstance\u001b[0m\u001b[0;34m(\u001b[0m\u001b[0msubarr\u001b[0m\u001b[0;34m,\u001b[0m \u001b[0mnp\u001b[0m\u001b[0;34m.\u001b[0m\u001b[0mndarray\u001b[0m\u001b[0;34m)\u001b[0m\u001b[0;34m:\u001b[0m\u001b[0;34m\u001b[0m\u001b[0;34m\u001b[0m\u001b[0m\n",
            "\u001b[0;32m/usr/local/lib/python3.11/dist-packages/pandas/core/construction.py\u001b[0m in \u001b[0;36m_sanitize_ndim\u001b[0;34m(result, data, dtype, index, allow_2d)\u001b[0m\n\u001b[1;32m    716\u001b[0m             \u001b[0;32mif\u001b[0m \u001b[0mallow_2d\u001b[0m\u001b[0;34m:\u001b[0m\u001b[0;34m\u001b[0m\u001b[0;34m\u001b[0m\u001b[0m\n\u001b[1;32m    717\u001b[0m                 \u001b[0;32mreturn\u001b[0m \u001b[0mresult\u001b[0m\u001b[0;34m\u001b[0m\u001b[0;34m\u001b[0m\u001b[0m\n\u001b[0;32m--> 718\u001b[0;31m             raise ValueError(\n\u001b[0m\u001b[1;32m    719\u001b[0m                 \u001b[0;34mf\"Data must be 1-dimensional, got ndarray of shape {data.shape} instead\"\u001b[0m\u001b[0;34m\u001b[0m\u001b[0;34m\u001b[0m\u001b[0m\n\u001b[1;32m    720\u001b[0m             )\n",
            "\u001b[0;31mValueError\u001b[0m: Data must be 1-dimensional, got ndarray of shape (4000, 27) instead"
          ]
        }
      ]
    },
    {
      "cell_type": "code",
      "source": [],
      "metadata": {
        "id": "zdk2XNykbqxn"
      },
      "execution_count": null,
      "outputs": []
    },
    {
      "cell_type": "code",
      "source": [],
      "metadata": {
        "id": "B9mDNq9sbqpX"
      },
      "execution_count": null,
      "outputs": []
    }
  ],
  "metadata": {
    "colab": {
      "collapsed_sections": [
        "K_N0NkEjnBMt",
        "01tv045CnH6e"
      ],
      "provenance": [],
      "authorship_tag": "ABX9TyNlv3V4Jq6n1Z9tP6io9MOf",
      "include_colab_link": true
    },
    "kernelspec": {
      "display_name": "Python 3",
      "name": "python3"
    },
    "language_info": {
      "name": "python"
    }
  },
  "nbformat": 4,
  "nbformat_minor": 0
}