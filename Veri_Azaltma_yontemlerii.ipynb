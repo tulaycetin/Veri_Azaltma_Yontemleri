{
  "nbformat": 4,
  "nbformat_minor": 0,
  "metadata": {
    "colab": {
      "provenance": [],
      "collapsed_sections": [
        "01tv045CnH6e",
        "-MSG7jEunaYN"
      ],
      "authorship_tag": "ABX9TyMLJFEtinwocKMBpb9hqScA",
      "include_colab_link": true
    },
    "kernelspec": {
      "name": "python3",
      "display_name": "Python 3"
    },
    "language_info": {
      "name": "python"
    }
  },
  "cells": [
    {
      "cell_type": "markdown",
      "metadata": {
        "id": "view-in-github",
        "colab_type": "text"
      },
      "source": [
        "<a href=\"https://colab.research.google.com/github/tulaycetin/Veri_Azaltma_Yontemleri/blob/main/Veri_Azaltma_yontemlerii.ipynb\" target=\"_parent\"><img src=\"https://colab.research.google.com/assets/colab-badge.svg\" alt=\"Open In Colab\"/></a>"
      ]
    },
    {
      "cell_type": "markdown",
      "source": [
        "#**1. Kütüphanelerin Yüklenmesi**"
      ],
      "metadata": {
        "id": "K_N0NkEjnBMt"
      }
    },
    {
      "cell_type": "code",
      "execution_count": null,
      "metadata": {
        "id": "A35yf9fZSYIv"
      },
      "outputs": [],
      "source": [
        "# Gerekli kütüphanelerin yüklenmesi\n",
        "import kagglehub\n",
        "import pandas as pd\n",
        "import numpy as np\n",
        "import missingno as msno\n",
        "import matplotlib.pyplot as plt\n",
        "from scipy.optimize import minimize\n",
        "from sklearn.model_selection import train_test_split\n",
        "from sklearn.linear_model import LinearRegression\n",
        "from sklearn.metrics import mean_squared_error, mean_absolute_error, r2_score\n",
        "from sklearn.metrics import confusion_matrix, accuracy_score, classification_report"
      ]
    },
    {
      "cell_type": "markdown",
      "source": [
        "# ***2. Veri Setinin İndirilmesi ve İlk İncelemesikalın metin***"
      ],
      "metadata": {
        "id": "01tv045CnH6e"
      }
    },
    {
      "cell_type": "markdown",
      "source": [
        "Kaggle’dan NFL Play-by-Play (2009-2016) veri seti indirilir. Bu veri seti, NFL maçlarındaki her bir oyun anını detaylı olarak içerir.\n",
        "Bu veri seti, NFL maçlarındaki oyunların detaylı verilerini içerdiğinden, maçın kazanılıp kazanılmaması (örneğin, win probability) gibi durumların analizine olanak tanır.\n"
      ],
      "metadata": {
        "id": "MqYqwrubXEqQ"
      }
    },
    {
      "cell_type": "code",
      "source": [
        "# Veri Setini İndirme ve Ön İnceleme\n",
        "# ---------------------------\n",
        "# Kaggle veri setini indiriyoruz.\n",
        "path = kagglehub.dataset_download(\"maxhorowitz/nflplaybyplay2009to2016\")\n",
        "print(\"Path to dataset files:\", path)"
      ],
      "metadata": {
        "id": "Ly6Cm2z2XAuT"
      },
      "execution_count": null,
      "outputs": []
    },
    {
      "cell_type": "code",
      "source": [
        "# CSV dosyasını okuyoruz.\n",
        "df = pd.read_csv(path + '/NFL Play by Play 2009-2017 (v4).csv')\n",
        "print(\"İlk 5 satır:\")\n",
        "print(df.head())"
      ],
      "metadata": {
        "id": "3xLrCXeYXAwu"
      },
      "execution_count": null,
      "outputs": []
    },
    {
      "cell_type": "code",
      "source": [
        "# Veri setinin 10,000 rastgele gözlemini alıyoruz.\n",
        "df = df.sample(n=30000, random_state=42)\n",
        "print(\"Yeni örneklem boyutu:\", df.shape)"
      ],
      "metadata": {
        "id": "Hg3wtNk_XfPh"
      },
      "execution_count": null,
      "outputs": []
    },
    {
      "cell_type": "code",
      "source": [
        "# Eksik değer sayısı\n",
        "print(\"Eksik değerler:\")\n",
        "print(df.isna().sum())"
      ],
      "metadata": {
        "id": "_AcKfnDeXAzQ"
      },
      "execution_count": null,
      "outputs": []
    },
    {
      "cell_type": "markdown",
      "source": [
        "# **3. Eksik Verilerin MICE Yöntemiyle Doldurulmasıkalın metin**"
      ],
      "metadata": {
        "id": "-MSG7jEunaYN"
      }
    },
    {
      "cell_type": "markdown",
      "source": [
        "Sadece sayısal değişkenler (numeric_cols) üzerinde çalışıyoruz; çünkü IterativeImputer sürekli değişkenlerle en iyi sonuç verir.\n",
        "\n",
        "MICE (Multiple Imputation by Chained Equations) yaklaşımı: her bir eksik değerli sütunu diğer sütunlarla regresyon/probabilistik model kurarak sırayla doldurur. Bu, basit ortalama ya da medyan atamadan daha tutarlı sonuçlar verir."
      ],
      "metadata": {
        "id": "LwByiCjU4k_b"
      }
    },
    {
      "cell_type": "code",
      "source": [
        "from sklearn.experimental import enable_iterative_imputer  # IterativeImputer'ı etkinleştirir.\n",
        "from sklearn.impute import SimpleImputer\n",
        "\n",
        "# Sadece sayısal sütunları seçiyoruz.\n",
        "\"\"\"numeric_cols = df.select_dtypes(include=[np.number]).columns\n",
        "df_numeric = df[numeric_cols]\n",
        "\n",
        "imputer = IterativeImputer(random_state=42)\n",
        "df_imputed = pd.DataFrame(imputer.fit_transform(df_numeric), columns=numeric_cols) #İmputer, df_numeric üzerindeki eksik verileri diğer sütunlarla ilişki kurarak doldurur.\n",
        "\"\"\"\n",
        "numeric_cols = df.select_dtypes(include=[np.number]).columns\n",
        "df_numeric = df[numeric_cols]\n",
        "simple_imp = SimpleImputer(strategy='mean')    # ya da strategy='median'\n",
        "df_imputed_simple = pd.DataFrame(\n",
        "    simple_imp.fit_transform(df_numeric),\n",
        "    columns=numeric_cols\n",
        ")"
      ],
      "metadata": {
        "id": "ZHYuUpskXA4J"
      },
      "execution_count": null,
      "outputs": []
    },
    {
      "cell_type": "markdown",
      "source": [
        "# **4. Hedef ve Bağımsız Değişkenlerin Ayrılması**"
      ],
      "metadata": {
        "id": "p6AcoGxrnrR9"
      }
    },
    {
      "cell_type": "markdown",
      "source": [
        "Touchdown hedef değişken olarak seçiliyor.\n",
        "\n",
        "Diğer tüm sayısal sütunlar bağımsız değişken."
      ],
      "metadata": {
        "id": "J_dQ2M6rn5ud"
      }
    },
    {
      "cell_type": "code",
      "source": [
        "# 3. Hedef ve Özellik Matrisi\n",
        "y = (df_imputed_simple['Touchdown'] >= 0.5).astype(int)\n",
        "X = df_imputed_simple.drop(columns=['Touchdown'])\n"
      ],
      "metadata": {
        "id": "hEuLAcWkbupk"
      },
      "execution_count": null,
      "outputs": []
    },
    {
      "cell_type": "markdown",
      "source": [
        "# **5. Özellik Ölçekleme (Eksik)**"
      ],
      "metadata": {
        "id": "4nizSHSNoDge"
      }
    },
    {
      "cell_type": "markdown",
      "source": [
        "SVM ve boyut indirgeme yöntemleri ölçek duyarlı olduğundan her özelliği “ortalama = 0, standart sapma = 1” olacak şekilde dönüştürüyoruz."
      ],
      "metadata": {
        "id": "RZ6Vq1PsoLrU"
      }
    },
    {
      "cell_type": "code",
      "source": [
        "# 9) Özellik ölçeklendirme\n",
        "from sklearn.preprocessing import StandardScaler\n",
        "scaler = StandardScaler()\n",
        "X_scaled = scaler.fit_transform(X)\n"
      ],
      "metadata": {
        "id": "fb50ssVAb_iI"
      },
      "execution_count": null,
      "outputs": []
    },
    {
      "cell_type": "markdown",
      "source": [
        "# **6. PCA ile Boyut İndirgeme**"
      ],
      "metadata": {
        "id": "AVEVhCDroQS1"
      }
    },
    {
      "cell_type": "markdown",
      "source": [
        "PCA: Verideki varyansın %90’ını koruyacak şekilde boyut indirgeme yapıyor.\n",
        "\n",
        "Amaç: Gürültüyü azaltıp hesaplama yükünü hafifletmek.\n"
      ],
      "metadata": {
        "id": "MFnazzpmfBVm"
      }
    },
    {
      "cell_type": "code",
      "source": [
        "from sklearn.decomposition import PCA\n",
        "\n",
        "# PCA ile boyut indirgeme (varyansın %90'ını koru)\n",
        "pca = PCA(n_components=0.80, svd_solver='full')\n",
        "X_pca = pca.fit_transform(X_scaled)\n",
        "\n",
        "print(\"PCA sonrası bileşen sayısı:\", X_pca.shape[1])\n"
      ],
      "metadata": {
        "colab": {
          "base_uri": "https://localhost:8080/"
        },
        "id": "EY8bWQ8KXA_A",
        "outputId": "cd5c6eb2-a695-441b-ddb4-225fe3f28ee7"
      },
      "execution_count": null,
      "outputs": [
        {
          "output_type": "stream",
          "name": "stdout",
          "text": [
            "PCA sonrası bileşen sayısı: 20\n"
          ]
        }
      ]
    },
    {
      "cell_type": "markdown",
      "source": [
        "# **7. LDA ile Boyut İndirgeme**"
      ],
      "metadata": {
        "id": "9WAON9B8ogzV"
      }
    },
    {
      "cell_type": "markdown",
      "source": [
        "\n",
        "\n",
        "*   LDA: Sınıflar arası ayrımı maksimize eden doğrusal kombinasyonlar bulur.\n",
        "*  İkili sınıflandırma için en fazla 1 bileşen verir (sınıf sayısı − 1).\n",
        "\n"
      ],
      "metadata": {
        "id": "S1qowexHfL88"
      }
    },
    {
      "cell_type": "code",
      "source": [
        "# Win_Prob'u sınıfa çeviriyoruz (örnek: 0.5 üstü = 'kazanır')\n",
        "y_class = y.values\n",
        "\n",
        "from sklearn.discriminant_analysis import LinearDiscriminantAnalysis\n",
        "\n",
        "lda = LinearDiscriminantAnalysis()\n",
        "X_lda = lda.fit_transform(X_scaled, y_class)\n",
        "\n",
        "print(\"LDA sonrası boyut sayısı:\", X_lda.shape[1])\n"
      ],
      "metadata": {
        "colab": {
          "base_uri": "https://localhost:8080/"
        },
        "id": "JYBiIiclXBBF",
        "outputId": "fb7687fe-c87f-45ca-cd2e-31d19be5c845"
      },
      "execution_count": null,
      "outputs": [
        {
          "output_type": "stream",
          "name": "stdout",
          "text": [
            "LDA sonrası boyut sayısı: 1\n"
          ]
        }
      ]
    },
    {
      "cell_type": "markdown",
      "source": [
        "# **8. Özellik Seçimi (SelectKBest + mutual_info_classif)**"
      ],
      "metadata": {
        "id": "dBeNXG2-otWT"
      }
    },
    {
      "cell_type": "markdown",
      "source": [
        "Mutual information (karşılıklı bilgi) tabanlı en iyi 20 özelliği seçiyoruz. Bu, hedef değişkenle en fazla bağımlılığı taşıyan özellikleri belirler."
      ],
      "metadata": {
        "id": "xiVvJRRsm8tn"
      }
    },
    {
      "cell_type": "code",
      "source": [
        "from sklearn.feature_selection import SelectKBest, mutual_info_classif\n",
        "\n",
        "# En iyi 20 özelliği seçecek\n",
        "selector = SelectKBest(score_func=mutual_info_classif, k=20)\n",
        "X_selected = selector.fit_transform(X_scaled, y_class)\n",
        "\n",
        "# Seçilen sütun isimlerini görelim\n",
        "selected_columns = X.columns[selector.get_support()]\n",
        "print(\"Seçilen öznitelikler:\\n\", selected_columns)\n"
      ],
      "metadata": {
        "colab": {
          "base_uri": "https://localhost:8080/"
        },
        "id": "NF9kUlk_gdYM",
        "outputId": "7e694361-1c25-4547-b90f-76d69164915e"
      },
      "execution_count": null,
      "outputs": [
        {
          "output_type": "stream",
          "name": "stdout",
          "text": [
            "Seçilen öznitelikler:\n",
            " Index(['yrdln', 'yrdline100', 'ydstogo', 'ydsnet', 'GoalToGo', 'FirstDown',\n",
            "       'Yards.Gained', 'sp', 'FieldGoalDistance', 'Opp_Field_Goal_Prob',\n",
            "       'Opp_Safety_Prob', 'Opp_Touchdown_Prob', 'Field_Goal_Prob',\n",
            "       'Touchdown_Prob', 'ExpPts', 'EPA', 'airEPA', 'yacEPA', 'WPA', 'yacWPA'],\n",
            "      dtype='object')\n"
          ]
        }
      ]
    },
    {
      "cell_type": "markdown",
      "source": [
        "# **10. SVM ile sınıflandırma ve değerlendirme**"
      ],
      "metadata": {
        "id": "RVwWqAOipjHb"
      }
    },
    {
      "cell_type": "markdown",
      "source": [
        "**train_test_split** ile veriyi %80 eğitim, %20 test olarak bölüyor.\n",
        "\n",
        "Kategorik değişken yoksa değişiklik olmuyor, ama pipeline genelleşti.\n",
        "\n",
        "**SVC (RBF kernel) ile sınıflandırma:** class_weight='balanced' dengesiz sınıflar için ağırlık atar.\n",
        "\n",
        "**predict_proba** ile olasılık çıktısı alınıp eşik değere (0.5) göre sınıf tahmini yapılıyor.\n",
        "\n",
        "Başarıyı; **doğruluk** (accuracy), **AUC**, **karışıklık matrisi** (confusion matrix) ve **sınıflandırma raporu** (precision/recall/f1) ile değerlendiriyoruz.\n",
        "\n",
        "**ROC** eğrisini çizerek modelin ayırt etme kabiliyetine bakıyoruz."
      ],
      "metadata": {
        "id": "UVlCyi555SrE"
      }
    },
    {
      "cell_type": "code",
      "source": [
        "from sklearn.svm import SVC\n",
        "from sklearn.metrics import (\n",
        "    confusion_matrix, accuracy_score, classification_report,\n",
        "    roc_curve, auc\n",
        ")\n",
        "from sklearn.model_selection import train_test_split\n",
        "import matplotlib.pyplot as plt\n",
        "import pandas as pd\n",
        "\n",
        "def SVMClassifierModel(X, y, threshold=0.5, name=\"Model\"):\n",
        "    # train/test split\n",
        "    X_train, X_test, y_train, y_test = train_test_split(\n",
        "        X, y, test_size=0.2, random_state=42\n",
        "    )\n",
        "    # one-hot (eğer kategorik yoksa zaten aynısı kalır)\n",
        "    X_train, X_test = pd.get_dummies(X_train, drop_first=True), pd.get_dummies(X_test, drop_first=True)\n",
        "    X_train, X_test = X_train.align(X_test, join='left', axis=1, fill_value=0)\n",
        "\n",
        "    # model\n",
        "    svm = SVC(kernel='rbf', C=0.1, gamma='auto',\n",
        "              probability=True, class_weight='balanced')\n",
        "    svm.fit(X_train, y_train)\n",
        "\n",
        "    # predict\n",
        "    y_proba = svm.predict_proba(X_test)[:,1]\n",
        "    y_pred = (y_proba >= threshold).astype(int)\n",
        "\n",
        "    # metrics\n",
        "    acc = accuracy_score(y_test, y_pred)\n",
        "    fpr, tpr, _ = roc_curve(y_test, y_proba)\n",
        "    roc_auc = auc(fpr, tpr)\n",
        "\n",
        "    print(f\"\\n==={name}===\\nAccuracy: {acc:.3f} — AUC: {roc_auc:.3f}\")\n",
        "    print(\"Confusion Matrix:\\n\", confusion_matrix(y_test, y_pred))\n",
        "    print(\"Classification Report:\\n\", classification_report(y_test, y_pred))\n",
        "\n",
        "    # ROC plot\n",
        "    plt.figure(figsize=(5,5))\n",
        "    plt.plot(fpr, tpr, label=f'{name} (AUC={roc_auc:.2f})')\n",
        "    plt.plot([0,1],[0,1],'--')\n",
        "    plt.title(f'ROC — {name}')\n",
        "    plt.xlabel('FPR'); plt.ylabel('TPR'); plt.legend(); plt.show()\n",
        "\n",
        "    return {'model': svm, 'accuracy': acc, 'auc': roc_auc}\n"
      ],
      "metadata": {
        "id": "cTlxsFc20b04"
      },
      "execution_count": null,
      "outputs": []
    },
    {
      "cell_type": "markdown",
      "source": [
        "# **11. Tüm veri dönüşümlerinin karşılaştırmalı değerlendirmesi**"
      ],
      "metadata": {
        "id": "4UlJAmYP5uid"
      }
    },
    {
      "cell_type": "code",
      "source": [
        "# 1) Orijinal ölçekli veri\n",
        "X_orig = pd.DataFrame(X_scaled, columns=X.columns)\n",
        "y_cls  = y_class\n",
        "\n",
        "# 2) PCA ile\n",
        "X_pca_df = pd.DataFrame(X_pca, columns=[f'PC{i+1}' for i in range(X_pca.shape[1])])\n",
        "\n",
        "# 3) LDA ile\n",
        "X_lda_df = pd.DataFrame(X_lda, columns=[f'LD{i+1}' for i in range(X_lda.shape[1])])\n",
        "\n",
        "# 4) SelectKBest ile\n",
        "X_sel_df = pd.DataFrame(X_selected, columns=selected_columns)\n",
        "\n",
        "# Evaluate all\n",
        "results = {}\n",
        "results['Orijinal']        = SVMClassifierModel(X_orig,   y_cls, name='Orijinal')\n",
        "results['PCA']             = SVMClassifierModel(X_pca_df, y_cls, name='PCA')\n",
        "results['LDA']             = SVMClassifierModel(X_lda_df, y_cls, name='LDA')\n",
        "results['SelectKBest(20)'] = SVMClassifierModel(X_sel_df, y_cls, name='SelectKBest')\n",
        "\n"
      ],
      "metadata": {
        "colab": {
          "base_uri": "https://localhost:8080/",
          "height": 1000
        },
        "id": "GMJ5yhC-0ohA",
        "outputId": "a775c226-a0ca-466e-fcf3-32c5ca045a84"
      },
      "execution_count": null,
      "outputs": [
        {
          "output_type": "stream",
          "name": "stdout",
          "text": [
            "\n",
            "===Orijinal===\n",
            "Accuracy: 0.998 — AUC: 1.000\n",
            "Confusion Matrix:\n",
            " [[5820    5]\n",
            " [   7  168]]\n",
            "Classification Report:\n",
            "               precision    recall  f1-score   support\n",
            "\n",
            "           0       1.00      1.00      1.00      5825\n",
            "           1       0.97      0.96      0.97       175\n",
            "\n",
            "    accuracy                           1.00      6000\n",
            "   macro avg       0.98      0.98      0.98      6000\n",
            "weighted avg       1.00      1.00      1.00      6000\n",
            "\n"
          ]
        },
        {
          "output_type": "display_data",
          "data": {
            "text/plain": [
              "<Figure size 500x500 with 1 Axes>"
            ],
            "image/png": "[encoded data removed]"
          },
          "metadata": {}
        },
        {
          "output_type": "stream",
          "name": "stdout",
          "text": [
            "\n",
            "===PCA===\n",
            "Accuracy: 0.996 — AUC: 1.000\n",
            "Confusion Matrix:\n",
            " [[5818    7]\n",
            " [  15  160]]\n",
            "Classification Report:\n",
            "               precision    recall  f1-score   support\n",
            "\n",
            "           0       1.00      1.00      1.00      5825\n",
            "           1       0.96      0.91      0.94       175\n",
            "\n",
            "    accuracy                           1.00      6000\n",
            "   macro avg       0.98      0.96      0.97      6000\n",
            "weighted avg       1.00      1.00      1.00      6000\n",
            "\n"
          ]
        },
        {
          "output_type": "display_data",
          "data": {
            "text/plain": [
              "<Figure size 500x500 with 1 Axes>"
            ],
            "image/png": "[encoded data removed]"
          },
          "metadata": {}
        },
        {
          "output_type": "stream",
          "name": "stdout",
          "text": [
            "\n",
            "===LDA===\n",
            "Accuracy: 0.998 — AUC: 0.977\n",
            "Confusion Matrix:\n",
            " [[5822    3]\n",
            " [   7  168]]\n",
            "Classification Report:\n",
            "               precision    recall  f1-score   support\n",
            "\n",
            "           0       1.00      1.00      1.00      5825\n",
            "           1       0.98      0.96      0.97       175\n",
            "\n",
            "    accuracy                           1.00      6000\n",
            "   macro avg       0.99      0.98      0.99      6000\n",
            "weighted avg       1.00      1.00      1.00      6000\n",
            "\n"
          ]
        },
        {
          "output_type": "display_data",
          "data": {
            "text/plain": [
              "<Figure size 500x500 with 1 Axes>"
            ],
            "image/png": "[encoded data removed]"
          },
          "metadata": {}
        },
        {
          "output_type": "stream",
          "name": "stdout",
          "text": [
            "\n",
            "===SelectKBest===\n",
            "Accuracy: 0.999 — AUC: 0.992\n",
            "Confusion Matrix:\n",
            " [[5825    0]\n",
            " [   8  167]]\n",
            "Classification Report:\n",
            "               precision    recall  f1-score   support\n",
            "\n",
            "           0       1.00      1.00      1.00      5825\n",
            "           1       1.00      0.95      0.98       175\n",
            "\n",
            "    accuracy                           1.00      6000\n",
            "   macro avg       1.00      0.98      0.99      6000\n",
            "weighted avg       1.00      1.00      1.00      6000\n",
            "\n"
          ]
        },
        {
          "output_type": "display_data",
          "data": {
            "text/plain": [
              "<Figure size 500x500 with 1 Axes>"
            ],
            "image/png": "[encoded data removed]"
          },
          "metadata": {}
        }
      ]
    },
    {
      "cell_type": "code",
      "source": [
        "from sklearn.svm import SVC\n",
        "from sklearn.model_selection import StratifiedKFold, cross_validate\n",
        "\n",
        "# 1) Verilerinizi hazır edin\n",
        "datasets = {\n",
        "    'Orijinal': X_orig,\n",
        "    'PCA':      X_pca_df,\n",
        "    'LDA':      X_lda_df,\n",
        "    'SelectKBest(20)': X_sel_df\n",
        "}\n",
        "y = y_cls\n",
        "\n",
        "# 2) Stratified K-Fold tanımlayın\n",
        "cv = StratifiedKFold(n_splits=5, shuffle=True, random_state=42)\n",
        "\n",
        "# 3) Model ve skor metrikleri\n",
        "svm = SVC(kernel='rbf', C=0.1, gamma='auto',\n",
        "          probability=True, class_weight='balanced', random_state=42)\n",
        "scoring = ['accuracy','roc_auc']\n",
        "\n",
        "# 4) Her veri kümesi için CV sonuçlarını hesapla\n",
        "for name, X in datasets.items():\n",
        "    # Eğer DataFrame ise, dummy (one-hot) ihtiyaç varsa ekleyin:\n",
        "    if hasattr(X, 'columns'):\n",
        "        X_df = pd.get_dummies(X, drop_first=True)\n",
        "    else:\n",
        "        X_df = pd.DataFrame(X)\n",
        "    # cross_validate ile hem accuracy hem ROC-AUC\n",
        "    cv_res = cross_validate(svm, X_df, y,\n",
        "                            cv=cv,\n",
        "                            scoring=scoring,\n",
        "                            return_train_score=True,\n",
        "                            n_jobs=-1)\n",
        "    print(f\"\\n=== {name} ===\")\n",
        "    print(f\"Train Accuracy: {cv_res['train_accuracy'].mean():.4f} ± {cv_res['train_accuracy'].std():.4f}\")\n",
        "    print(f\" Test Accuracy: {cv_res['test_accuracy'].mean():.4f} ± {cv_res['test_accuracy'].std():.4f}\")\n",
        "    print(f\" Train  AUC   : {cv_res['train_roc_auc'].mean():.4f} ± {cv_res['train_roc_auc'].std():.4f}\")\n",
        "    print(f\" Test  AUC   : {cv_res['test_roc_auc'].mean():.4f} ± {cv_res['test_roc_auc'].std():.4f}\")\n"
      ],
      "metadata": {
        "id": "HHuns7QqD6fY",
        "colab": {
          "base_uri": "https://localhost:8080/"
        },
        "outputId": "ab8eb31e-fec2-4ab2-9f46-deb5d0cc8265"
      },
      "execution_count": null,
      "outputs": [
        {
          "output_type": "stream",
          "name": "stdout",
          "text": [
            "\n",
            "=== Orijinal ===\n",
            "Train Accuracy: 0.9942 ± 0.0007\n",
            " Test Accuracy: 0.9932 ± 0.0015\n",
            " Train  AUC   : 1.0000 ± 0.0000\n",
            " Test  AUC   : 0.9999 ± 0.0001\n",
            "\n",
            "=== PCA ===\n",
            "Train Accuracy: 0.9963 ± 0.0005\n",
            " Test Accuracy: 0.9938 ± 0.0015\n",
            " Train  AUC   : 1.0000 ± 0.0000\n",
            " Test  AUC   : 0.9992 ± 0.0004\n",
            "\n",
            "=== LDA ===\n",
            "Train Accuracy: 0.9978 ± 0.0004\n",
            " Test Accuracy: 0.9977 ± 0.0004\n",
            " Train  AUC   : 0.9883 ± 0.0040\n",
            " Test  AUC   : 0.9830 ± 0.0065\n"
          ]
        }
      ]
    },
    {
      "cell_type": "code",
      "source": [
        "def DTClassifierModel(X, y, threshold=0.5, name=\"Model\"):\n",
        "    # train/test split\n",
        "    X_train, X_test, y_train, y_test = train_test_split(\n",
        "        X, y, test_size=0.2, random_state=42, stratify=y\n",
        "    )\n",
        "    # one-hot kodlama (gerekiyorsa)\n",
        "    X_train, X_test = pd.get_dummies(X_train, drop_first=True), pd.get_dummies(X_test, drop_first=True)\n",
        "    X_train, X_test = X_train.align(X_test, join='left', axis=1, fill_value=0)\n",
        "\n",
        "    # model\n",
        "    dt = DecisionTreeClassifier(\n",
        "        criterion='gini',\n",
        "        max_depth=None,\n",
        "        class_weight='balanced',\n",
        "        random_state=42\n",
        "    )\n",
        "    dt.fit(X_train, y_train)\n",
        "\n",
        "    # olasılık tahmini ve sınıf tahmini\n",
        "    y_proba = dt.predict_proba(X_test)[:,1]\n",
        "    y_pred = (y_proba >= threshold).astype(int)\n",
        "\n",
        "    # metrikler\n",
        "    acc = accuracy_score(y_test, y_pred)\n",
        "    fpr, tpr, _ = roc_curve(y_test, y_proba)\n",
        "    roc_auc = auc(fpr, tpr)\n",
        "\n",
        "    print(f\"\\n==={name}===\\nAccuracy: {acc:.3f} — AUC: {roc_auc:.3f}\")\n",
        "    print(\"Confusion Matrix:\\n\", confusion_matrix(y_test, y_pred))\n",
        "    print(\"Classification Report:\\n\", classification_report(y_test, y_pred))\n",
        "\n",
        "    # ROC çizimi\n",
        "    plt.figure(figsize=(5,5))\n",
        "    plt.plot(fpr, tpr, label=f'{name} (AUC={roc_auc:.2f})')\n",
        "    plt.plot([0,1],[0,1],'--')\n",
        "    plt.title(f'ROC — {name}')\n",
        "    plt.xlabel('FPR'); plt.ylabel('TPR'); plt.legend(); plt.show()\n",
        "\n",
        "    return {'model': dt, 'accuracy': acc, 'auc': roc_auc}\n",
        "\n",
        "# --- (6) Tüm veri kümelerini değerlendir ---\n",
        "datasets = {\n",
        "    'Orijinal': X_orig,\n",
        "    'PCA': X_pca_df,\n",
        "    'LDA': X_lda_df,\n",
        "    'SelectKBest(20)': X_sel_df\n",
        "}\n",
        "\n",
        "results_dt = {}\n",
        "for name, X_df in datasets.items():\n",
        "    results_dt[name] = DTClassifierModel(X_df, y, name=name)"
      ],
      "metadata": {
        "id": "LeOGgmaIHxMd"
      },
      "execution_count": null,
      "outputs": []
    },
    {
      "cell_type": "code",
      "source": [
        "# Orijinal veri kümesi\n",
        "res_orijinal = DTClassifierModel(X_orig, y, name='Orijinal')\n",
        "\n",
        "# PCA ile indirgenmiş\n",
        "res_pca      = DTClassifierModel(X_pca_df, y, name='PCA')\n",
        "\n",
        "# LDA ile indirgenmiş\n",
        "res_lda      = DTClassifierModel(X_lda_df, y, name='LDA')\n",
        "\n",
        "# SelectKBest(20) ile seçilmiş özellikler\n",
        "res_selkbest = DTClassifierModel(X_sel_df, y, name='SelectKBest(20)')\n"
      ],
      "metadata": {
        "id": "4oBiaBODH67k"
      },
      "execution_count": null,
      "outputs": []
    },
    {
      "cell_type": "markdown",
      "source": [
        "**Neden bu adımlar?**\n",
        "\n",
        "---\n",
        "\n",
        "\n",
        "Eksik verileri MICE ile doldurmak, basit yöntemlere göre (ortalama, medyan) daha tutarlı sonuç verir.\n",
        "\n",
        "Ölçeklendirme, SVM ve PCA gibi yöntemler için şarttır; aksi halde farklı ölçeklerdeki özellikler baskın olur.\n",
        "\n",
        "Boyut indirgeme (PCA, LDA) ve özellik seçimi (SelectKBest) modeli hem hızlandırır hem de gürültüyü azaltarak genelleme kabiliyetini artırabilir.\n",
        "\n",
        "SVM dengeli sınıflandırma yeteneği ve güçlü ayırt etme kabiliyeti ile bu tür ikili sınıflandırma problemlerinde sık kullanılır.\n",
        "\n",
        "ROC/AUC tek bir eşik değere bağlı kalmadan modelin tüm eşiklerdeki performansını özetler."
      ],
      "metadata": {
        "id": "0vaqiTVZ5_t6"
      }
    }
  ]
}