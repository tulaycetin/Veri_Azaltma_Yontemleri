{
  "nbformat": 4,
  "nbformat_minor": 0,
  "metadata": {
    "colab": {
      "provenance": [],
      "authorship_tag": "ABX9TyMfyE10/Wy6RxTRADfBAML7",
      "include_colab_link": true
    },
    "kernelspec": {
      "name": "python3",
      "display_name": "Python 3"
    },
    "language_info": {
      "name": "python"
    }
  },
  "cells": [
    {
      "cell_type": "markdown",
      "metadata": {
        "id": "view-in-github",
        "colab_type": "text"
      },
      "source": [
        "<a href=\"https://colab.research.google.com/github/tulaycetin/Veri_Azaltma_Yontemleri/blob/main/%C3%96znitelik_Se%C3%A7imi.ipynb\" target=\"_parent\"><img src=\"https://colab.research.google.com/assets/colab-badge.svg\" alt=\"Open In Colab\"/></a>"
      ]
    },
    {
      "cell_type": "markdown",
      "source": [
        "\n",
        "\n",
        "**Amaç**: Titanic veri seti üzerinde farklı özellik seçme yöntemlerini (SelectKBest, LassoCV, RFECV) ve SVM sınıflandırıcısını kullanarak “**hayatta kalma**” tahmin performanslarını karşılaştırmak.\n"
      ],
      "metadata": {
        "id": "Cxl82uWWv3dC"
      }
    },
    {
      "cell_type": "code",
      "execution_count": null,
      "metadata": {
        "id": "70tBrdq_hvKw"
      },
      "outputs": [],
      "source": [
        "# Gerekli kütüphaneler\n",
        "import kagglehub\n",
        "import pandas as pd\n",
        "import numpy as np\n",
        "import matplotlib.pyplot as plt\n",
        "from sklearn.model_selection import train_test_split, StratifiedKFold\n",
        "from sklearn.linear_model import LassoCV\n",
        "from sklearn.metrics import mean_squared_error, mean_absolute_error, r2_score\n",
        "from sklearn.metrics import confusion_matrix, accuracy_score, classification_report, roc_curve, auc\n",
        "from sklearn.impute import IterativeImputer\n",
        "from sklearn.preprocessing import StandardScaler\n",
        "from sklearn.discriminant_analysis import LinearDiscriminantAnalysis\n",
        "from sklearn.feature_selection import SelectKBest, mutual_info_classif, RFECV\n",
        "from sklearn.svm import SVC"
      ]
    },
    {
      "cell_type": "markdown",
      "source": [
        "# **Veri Seti Yükleme ve Ön İnceleme**"
      ],
      "metadata": {
        "id": "jZd5N1Dzxmo3"
      }
    },
    {
      "cell_type": "code",
      "source": [
        "# Hücre 2: Veri setini yükle ve ön inceleme\n",
        "url = \"https://raw.githubusercontent.com/datasciencedojo/datasets/master/titanic.csv\"\n",
        "df = pd.read_csv(url)\n",
        "\n",
        "print(\"Şekil:\", df.shape)\n",
        "print(\"\\nEksik Değer Sayıları:\\n\", df.isnull().sum())\n",
        "display(df.head())\n",
        "\n",
        "\n"
      ],
      "metadata": {
        "id": "cImPpJ4SZyh5"
      },
      "execution_count": null,
      "outputs": []
    },
    {
      "cell_type": "markdown",
      "source": [
        "\n",
        "\n",
        "# **IterativeImputer:**\n",
        "**Tüm sayısal sütunlardaki eksik değerleri, diğer sütunlardan öğrenilen istatistikî modellerle (çok değişkenli regresyon) doldurur.**\n",
        "\n",
        "\n",
        "\n"
      ],
      "metadata": {
        "id": "Ze2GLW-uwEu4"
      }
    },
    {
      "cell_type": "code",
      "source": [
        "# Hücre 3: Sayısal sütunlardaki eksikleri IterativeImputer ile doldur\n",
        "numeric_cols = df.select_dtypes(include=['int64', 'float64']).columns\n",
        "imputer = IterativeImputer(random_state=42)\n",
        "df[numeric_cols] = imputer.fit_transform(df[numeric_cols])\n"
      ],
      "metadata": {
        "id": "pmtnUesKZyVp"
      },
      "execution_count": null,
      "outputs": []
    },
    {
      "cell_type": "markdown",
      "source": [
        "# **One-Hot Encoding:**\n",
        "**Kategorik bir özelliği (örn. Sex, Embarked) 0/1 değerleri alan yeni sütunlara dönüştürür. drop_first=True ile bir sütun atılır, böylece lineer bağımlılığın (dummy trap) önüne geçilir.**"
      ],
      "metadata": {
        "id": "AFjVf2OPwVhI"
      }
    },
    {
      "cell_type": "code",
      "source": [
        "# Hücre 4: One-hot encoding ile kategorikleri sayısala çevir\n",
        "df = pd.get_dummies(df, drop_first=True)\n"
      ],
      "metadata": {
        "id": "F4zh2yVYvQ3a"
      },
      "execution_count": null,
      "outputs": []
    },
    {
      "cell_type": "code",
      "source": [
        "print(df.isnull().sum())"
      ],
      "metadata": {
        "id": "D1rrcsyFti9M"
      },
      "execution_count": null,
      "outputs": []
    },
    {
      "cell_type": "markdown",
      "source": [
        "**y (“Survived”):** Modelimizin tahmin etmeye çalışacağı etiket.\n",
        "\n",
        "**X:**Tüm diğer sütunlar, modelin girdisi olacak özellik matrisini oluşturur."
      ],
      "metadata": {
        "id": "Ceepl6p_wcGw"
      }
    },
    {
      "cell_type": "code",
      "source": [
        "# Hücre 5: Özellik ve hedef matrisini hazırla\n",
        "y = df['Survived']\n",
        "X = df.drop(columns=['Survived'])\n"
      ],
      "metadata": {
        "id": "AHS8wEBsZ5kr"
      },
      "execution_count": null,
      "outputs": []
    },
    {
      "cell_type": "markdown",
      "source": [
        "# **StandardScaler:**\n",
        "**Her sütunu ortalaması 0, standart sapması 1 olacak şekilde yeniden ölçeklendirir. SVM gibi mesafe-temelli modellerde önemlidir.**"
      ],
      "metadata": {
        "id": "Qb94k2S6wiZg"
      }
    },
    {
      "cell_type": "markdown",
      "source": [],
      "metadata": {
        "id": "6-w6EyEEw5JQ"
      }
    },
    {
      "cell_type": "code",
      "source": [
        "# Hücre 6: Özellikleri ölçeklendir\n",
        "scaler = StandardScaler()\n",
        "X_scaled = scaler.fit_transform(X)\n"
      ],
      "metadata": {
        "id": "92QZzvcRl2L8"
      },
      "execution_count": null,
      "outputs": []
    },
    {
      "cell_type": "markdown",
      "source": [
        "# **Özellik Seçme Yöntemleri**"
      ],
      "metadata": {
        "id": "4hxIOzwVw6ln"
      }
    },
    {
      "cell_type": "markdown",
      "source": [
        "**SelectKBest (mutual_info_classif)**\n",
        "Karşılıklı bilgi (mutual information) istatistiğine göre en yüksek bilgi değerine sahip ilk 20 özelliği seçer.\n",
        "\n",
        "**LassoCV (embedded)**\n",
        "L1 düzenlemeli regresyonla özellik ağırlıklarını küçültür; sıfır olmayan ağırlığa sahip sütunları alır.\n",
        "\n",
        "**RFECV (wrapper + çapraz doğrulama)**\n",
        "Tek tek özellikleri kaldırarak (recursive) en iyi doğrulama skorunu veren alt kümesi bulur."
      ],
      "metadata": {
        "id": "pKzzZK-Ow84Q"
      }
    },
    {
      "cell_type": "code",
      "source": [
        "# Hücre 7: Özellik seçme yöntemleri\n",
        "# 7.1) SelectKBest (mutual_info)\n",
        "kbest = SelectKBest(score_func=mutual_info_classif, k=20)\n",
        "X_kbest = kbest.fit_transform(X_scaled, y)\n",
        "kbest_cols = X.columns[kbest.get_support()]\n",
        "\n",
        "\n",
        "# 7.2) LassoCV (embedded)\n",
        "lasso = LassoCV(cv=5, random_state=42, n_jobs=-1)\n",
        "lasso.fit(X_scaled, y)\n",
        "mask_lasso = np.abs(lasso.coef_) > 1e-4\n",
        "X_lasso = X_scaled[:, mask_lasso]\n",
        "lasso_cols = X.columns[mask_lasso]\n",
        "\n",
        "\n",
        "\n",
        "# 7.3) RFECV (wrapper + CV)\n",
        "svm_lin = SVC(kernel='linear', random_state=42)\n",
        "rfecv = RFECV(\n",
        "    estimator=svm_lin,\n",
        "    step=2,          # her seferinde 2 özellik atlıyor\n",
        "    cv=StratifiedKFold(5),\n",
        "    scoring='accuracy',\n",
        "    n_jobs=-1,\n",
        "    verbose=2\n",
        ")\n",
        "rfecv.fit(X_scaled, y)\n",
        "\n",
        "X_rfecv = rfecv.transform(X_scaled)\n",
        "rfecv_cols = X.columns[rfecv.support_]\n"
      ],
      "metadata": {
        "id": "QibCIQPtl6S0"
      },
      "execution_count": null,
      "outputs": []
    },
    {
      "cell_type": "markdown",
      "source": [
        "#**Model Değerlendirme Fonksiyonu**"
      ],
      "metadata": {
        "id": "CJjll0DUxKSH"
      }
    },
    {
      "cell_type": "markdown",
      "source": [
        "**Accuracy:** Doğru sınıflandırılanların oranı.\n",
        "\n",
        "**AUC (Area Under ROC Curve):** Sınıflandırıcının ayırt etme gücünü ölçen eğri altı alan.\n",
        "\n",
        "**Confusion Matrix ve Classification Report:** Daha ayrıntılı metrikler (precision, recall, f1-score vs.)."
      ],
      "metadata": {
        "id": "rBaTUPwPxQin"
      }
    },
    {
      "cell_type": "code",
      "source": [
        "# Hücre 8: Değerlendirme fonksiyonu\n",
        "def evaluate_svm(X_feat, y, name):\n",
        "    # Eğitim-test bölme\n",
        "    X_tr, X_te, y_tr, y_te = train_test_split(\n",
        "        X_feat, y, test_size=0.2, random_state=42, stratify=y\n",
        "    )\n",
        "    # Model eğit ve tahmin\n",
        "    model = SVC(kernel='rbf', C=0.1, gamma='auto',\n",
        "                probability=True, class_weight='balanced', random_state=42)\n",
        "    model.fit(X_tr, y_tr)\n",
        "    proba = model.predict_proba(X_te)[:, 1]\n",
        "    pred = (proba >= 0.5).astype(int)\n",
        "\n",
        "    # Metri̇kler\n",
        "    acc = accuracy_score(y_te, pred)\n",
        "    fpr, tpr, _ = roc_curve(y_te, proba)\n",
        "    roc_auc = auc(fpr, tpr)\n",
        "\n",
        "    print(f\"\\n=== {name} ===\")\n",
        "    print(f\"Accuracy: {acc:.3f} — AUC: {roc_auc:.3f}\")\n",
        "    print(\"Confusion Matrix:\\n\", confusion_matrix(y_te, pred))\n",
        "    print(\"Classification Report:\\n\", classification_report(y_te, pred))\n",
        "\n",
        "    # ROC eğrisi\n",
        "    plt.figure(figsize=(5,5))\n",
        "    plt.plot(fpr, tpr, label=f'{name} (AUC={roc_auc:.2f})')\n",
        "    plt.plot([0,1],[0,1],'--')\n",
        "    plt.title(f'ROC Curve — {name}')\n",
        "    plt.xlabel('FPR'); plt.ylabel('TPR')\n",
        "    plt.legend()\n",
        "    plt.show()\n",
        "    return acc, roc_auc\n"
      ],
      "metadata": {
        "id": "FVWljtyPl6Pj"
      },
      "execution_count": null,
      "outputs": []
    },
    {
      "cell_type": "markdown",
      "source": [
        "#**Yöntemlerin Karşılaştırılması**"
      ],
      "metadata": {
        "id": "uGfDmcx6xYqY"
      }
    },
    {
      "cell_type": "code",
      "source": [
        "# Hücre 9: Tüm yöntemleri değerlendir ve sonuçları karşılaştır\n",
        "methods = {\n",
        "    'Orijinal':          X_scaled,\n",
        "    'SelectKBest(20)':   X_kbest,\n",
        "    'Lasso':             X_lasso,\n",
        "    'RFECV':             X_rfecv\n",
        "}\n",
        "\n",
        "results = {}\n",
        "for name, X_m in methods.items():\n",
        "    results[name] = evaluate_svm(X_m, y, name)\n",
        "\n",
        "# Hücre 10: Sonuçları tablo olarak göster\n",
        "res_df = pd.DataFrame(results, index=['Accuracy', 'AUC']).T\n",
        "display(res_df)\n"
      ],
      "metadata": {
        "id": "5PXV2vztvZER"
      },
      "execution_count": null,
      "outputs": []
    }
  ]
}