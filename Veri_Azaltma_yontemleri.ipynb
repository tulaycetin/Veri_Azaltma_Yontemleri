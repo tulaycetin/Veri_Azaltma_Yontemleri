{
  "nbformat": 4,
  "nbformat_minor": 0,
  "metadata": {
    "colab": {
      "provenance": [],
      "authorship_tag": "ABX9TyORlEVrYXpGHvyHfe9q+wLP",
      "include_colab_link": true
    },
    "kernelspec": {
      "name": "python3",
      "display_name": "Python 3"
    },
    "language_info": {
      "name": "python"
    }
  },
  "cells": [
    {
      "cell_type": "markdown",
      "metadata": {
        "id": "view-in-github",
        "colab_type": "text"
      },
      "source": [
        "<a href=\"https://colab.research.google.com/github/tulaycetin/Veri_Azaltma_Yontemleri/blob/main/Veri_Azaltma_yontemleri.ipynb\" target=\"_parent\"><img src=\"https://colab.research.google.com/assets/colab-badge.svg\" alt=\"Open In Colab\"/></a>"
      ]
    },
    {
      "cell_type": "markdown",
      "source": [
        "#**1. Kütüphanelerin Yüklenmesi**"
      ],
      "metadata": {
        "id": "K_N0NkEjnBMt"
      }
    },
    {
      "cell_type": "code",
      "execution_count": 92,
      "metadata": {
        "id": "A35yf9fZSYIv"
      },
      "outputs": [],
      "source": [
        "# Gerekli kütüphanelerin yüklenmesi\n",
        "import kagglehub\n",
        "import pandas as pd\n",
        "import numpy as np\n",
        "import missingno as msno\n",
        "import matplotlib.pyplot as plt\n",
        "from scipy.optimize import minimize\n",
        "from sklearn.model_selection import train_test_split\n",
        "from sklearn.linear_model import LinearRegression\n",
        "from sklearn.metrics import mean_squared_error, mean_absolute_error, r2_score\n",
        "from sklearn.metrics import confusion_matrix, accuracy_score, classification_report"
      ]
    },
    {
      "cell_type": "markdown",
      "source": [
        "# ***2. Veri Setinin İndirilmesi ve İlk İncelemesikalın metin***"
      ],
      "metadata": {
        "id": "01tv045CnH6e"
      }
    },
    {
      "cell_type": "markdown",
      "source": [
        "Kaggle’dan NFL Play-by-Play (2009-2016) veri seti indirilir. Bu veri seti, NFL maçlarındaki her bir oyun anını detaylı olarak içerir.\n",
        "Bu veri seti, NFL maçlarındaki oyunların detaylı verilerini içerdiğinden, maçın kazanılıp kazanılmaması (örneğin, win probability) gibi durumların analizine olanak tanır.\n"
      ],
      "metadata": {
        "id": "MqYqwrubXEqQ"
      }
    },
    {
      "cell_type": "code",
      "source": [
        "# Veri Setini İndirme ve Ön İnceleme\n",
        "# ---------------------------\n",
        "# Kaggle veri setini indiriyoruz.\n",
        "path = kagglehub.dataset_download(\"maxhorowitz/nflplaybyplay2009to2016\")\n",
        "print(\"Path to dataset files:\", path)"
      ],
      "metadata": {
        "colab": {
          "base_uri": "https://localhost:8080/"
        },
        "id": "Ly6Cm2z2XAuT",
        "outputId": "278dd5ed-c825-40f8-b5d5-c9cdf51316c7"
      },
      "execution_count": 93,
      "outputs": [
        {
          "output_type": "stream",
          "name": "stdout",
          "text": [
            "Path to dataset files: /kaggle/input/nflplaybyplay2009to2016\n"
          ]
        }
      ]
    },
    {
      "cell_type": "code",
      "source": [
        "# CSV dosyasını okuyoruz.\n",
        "df = pd.read_csv(path + '/NFL Play by Play 2009-2017 (v4).csv')\n",
        "print(\"İlk 5 satır:\")\n",
        "print(df.head())"
      ],
      "metadata": {
        "colab": {
          "base_uri": "https://localhost:8080/"
        },
        "id": "3xLrCXeYXAwu",
        "outputId": "2e5707c5-05f3-4f7f-c8fd-a2487abae403"
      },
      "execution_count": 94,
      "outputs": [
        {
          "output_type": "stream",
          "name": "stderr",
          "text": [
            "<ipython-input-94-62ee87502347>:2: DtypeWarning: Columns (25,51) have mixed types. Specify dtype option on import or set low_memory=False.\n",
            "  df = pd.read_csv(path + '/NFL Play by Play 2009-2017 (v4).csv')\n"
          ]
        },
        {
          "output_type": "stream",
          "name": "stdout",
          "text": [
            "İlk 5 satır:\n",
            "         Date      GameID  Drive  qtr  down   time  TimeUnder  TimeSecs  \\\n",
            "0  2009-09-10  2009091000      1    1   NaN  15:00         15    3600.0   \n",
            "1  2009-09-10  2009091000      1    1   1.0  14:53         15    3593.0   \n",
            "2  2009-09-10  2009091000      1    1   2.0  14:16         15    3556.0   \n",
            "3  2009-09-10  2009091000      1    1   3.0  13:35         14    3515.0   \n",
            "4  2009-09-10  2009091000      1    1   4.0  13:27         14    3507.0   \n",
            "\n",
            "   PlayTimeDiff SideofField  ...    yacEPA  Home_WP_pre  Away_WP_pre  \\\n",
            "0           0.0         TEN  ...       NaN     0.485675     0.514325   \n",
            "1           7.0         PIT  ...  1.146076     0.546433     0.453567   \n",
            "2          37.0         PIT  ...       NaN     0.551088     0.448912   \n",
            "3          41.0         PIT  ... -5.031425     0.510793     0.489207   \n",
            "4           8.0         PIT  ...       NaN     0.461217     0.538783   \n",
            "\n",
            "   Home_WP_post  Away_WP_post  Win_Prob       WPA    airWPA    yacWPA  Season  \n",
            "0      0.546433      0.453567  0.485675  0.060758       NaN       NaN    2009  \n",
            "1      0.551088      0.448912  0.546433  0.004655 -0.032244  0.036899    2009  \n",
            "2      0.510793      0.489207  0.551088 -0.040295       NaN       NaN    2009  \n",
            "3      0.461217      0.538783  0.510793 -0.049576  0.106663 -0.156239    2009  \n",
            "4      0.558929      0.441071  0.461217  0.097712       NaN       NaN    2009  \n",
            "\n",
            "[5 rows x 102 columns]\n"
          ]
        }
      ]
    },
    {
      "cell_type": "code",
      "source": [
        "# Veri setinin 10,000 rastgele gözlemini alıyoruz.\n",
        "df = df.sample(n=20000, random_state=42)\n",
        "print(\"Yeni örneklem boyutu:\", df.shape)"
      ],
      "metadata": {
        "colab": {
          "base_uri": "https://localhost:8080/"
        },
        "id": "Hg3wtNk_XfPh",
        "outputId": "5cad3c66-7147-408a-db74-0932539a8bb8"
      },
      "execution_count": 95,
      "outputs": [
        {
          "output_type": "stream",
          "name": "stdout",
          "text": [
            "Yeni örneklem boyutu: (20000, 102)\n"
          ]
        }
      ]
    },
    {
      "cell_type": "code",
      "source": [
        "# Eksik değer sayısı\n",
        "print(\"Eksik değerler:\")\n",
        "print(df.isna().sum())"
      ],
      "metadata": {
        "colab": {
          "base_uri": "https://localhost:8080/"
        },
        "id": "_AcKfnDeXAzQ",
        "outputId": "b65503be-005d-438f-d0e7-515c0070fdee"
      },
      "execution_count": 96,
      "outputs": [
        {
          "output_type": "stream",
          "name": "stdout",
          "text": [
            "Eksik değerler:\n",
            "Date            0\n",
            "GameID          0\n",
            "Drive           0\n",
            "qtr             0\n",
            "down         3009\n",
            "            ...  \n",
            "Win_Prob     1269\n",
            "WPA           262\n",
            "airWPA      12202\n",
            "yacWPA      12213\n",
            "Season          0\n",
            "Length: 102, dtype: int64\n"
          ]
        }
      ]
    },
    {
      "cell_type": "markdown",
      "source": [
        "# **3. Eksik Verilerin MICE Yöntemiyle Doldurulmasıkalın metin**"
      ],
      "metadata": {
        "id": "-MSG7jEunaYN"
      }
    },
    {
      "cell_type": "markdown",
      "source": [
        "Sadece sayısal değişkenler (numeric_cols) üzerinde çalışıyoruz; çünkü IterativeImputer sürekli değişkenlerle en iyi sonuç verir.\n",
        "\n",
        "MICE (Multiple Imputation by Chained Equations) yaklaşımı: her bir eksik değerli sütunu diğer sütunlarla regresyon/probabilistik model kurarak sırayla doldurur. Bu, basit ortalama ya da medyan atamadan daha tutarlı sonuçlar verir."
      ],
      "metadata": {
        "id": "LwByiCjU4k_b"
      }
    },
    {
      "cell_type": "code",
      "source": [
        "from sklearn.experimental import enable_iterative_imputer  # IterativeImputer'ı etkinleştirir.\n",
        "from sklearn.impute import IterativeImputer\n",
        "\n",
        "# Sadece sayısal sütunları seçiyoruz.\n",
        "numeric_cols = df.select_dtypes(include=[np.number]).columns\n",
        "df_numeric = df[numeric_cols]\n",
        "\n",
        "imputer = IterativeImputer(random_state=42)\n",
        "df_imputed = pd.DataFrame(imputer.fit_transform(df_numeric), columns=numeric_cols) #İmputer, df_numeric üzerindeki eksik verileri diğer sütunlarla ilişki kurarak doldurur.\n",
        "\n"
      ],
      "metadata": {
        "id": "ZHYuUpskXA4J"
      },
      "execution_count": 97,
      "outputs": []
    },
    {
      "cell_type": "markdown",
      "source": [
        "# **4. Hedef ve Bağımsız Değişkenlerin Ayrılması**"
      ],
      "metadata": {
        "id": "p6AcoGxrnrR9"
      }
    },
    {
      "cell_type": "markdown",
      "source": [
        "Touchdown hedef değişken olarak seçiliyor.\n",
        "\n",
        "Diğer tüm sayısal sütunlar bağımsız değişken."
      ],
      "metadata": {
        "id": "J_dQ2M6rn5ud"
      }
    },
    {
      "cell_type": "code",
      "source": [
        "# 3. Hedef ve Özellik Matrisi\n",
        "y = (df_imputed['Touchdown'] >= 0.5).astype(int)\n",
        "X = df_imputed.drop(columns=['Touchdown'])\n"
      ],
      "metadata": {
        "id": "hEuLAcWkbupk"
      },
      "execution_count": 98,
      "outputs": []
    },
    {
      "cell_type": "markdown",
      "source": [
        "# **5. Özellik Ölçekleme (Eksik)**"
      ],
      "metadata": {
        "id": "4nizSHSNoDge"
      }
    },
    {
      "cell_type": "markdown",
      "source": [
        "SVM ve boyut indirgeme yöntemleri ölçek duyarlı olduğundan her özelliği “ortalama = 0, standart sapma = 1” olacak şekilde dönüştürüyoruz."
      ],
      "metadata": {
        "id": "RZ6Vq1PsoLrU"
      }
    },
    {
      "cell_type": "code",
      "source": [
        "# 9) Özellik ölçeklendirme\n",
        "from sklearn.preprocessing import StandardScaler\n",
        "scaler = StandardScaler()\n",
        "X_scaled = scaler.fit_transform(X)\n"
      ],
      "metadata": {
        "id": "fb50ssVAb_iI"
      },
      "execution_count": 99,
      "outputs": []
    },
    {
      "cell_type": "markdown",
      "source": [
        "# **6. PCA ile Boyut İndirgeme**"
      ],
      "metadata": {
        "id": "AVEVhCDroQS1"
      }
    },
    {
      "cell_type": "markdown",
      "source": [
        "PCA: Verideki varyansın %90’ını koruyacak şekilde boyut indirgeme yapıyor.\n",
        "\n",
        "Amaç: Gürültüyü azaltıp hesaplama yükünü hafifletmek.\n"
      ],
      "metadata": {
        "id": "MFnazzpmfBVm"
      }
    },
    {
      "cell_type": "code",
      "source": [
        "from sklearn.decomposition import PCA\n",
        "\n",
        "# PCA ile boyut indirgeme (varyansın %90'ını koru)\n",
        "pca = PCA(n_components=0.90, svd_solver='full')\n",
        "X_pca = pca.fit_transform(X_scaled)\n",
        "\n",
        "print(\"PCA sonrası bileşen sayısı:\", X_pca.shape[1])\n"
      ],
      "metadata": {
        "colab": {
          "base_uri": "https://localhost:8080/"
        },
        "id": "EY8bWQ8KXA_A",
        "outputId": "5f7251d8-eb56-451d-9b2a-3b9b3830abe1"
      },
      "execution_count": 100,
      "outputs": [
        {
          "output_type": "stream",
          "name": "stdout",
          "text": [
            "PCA sonrası bileşen sayısı: 27\n"
          ]
        }
      ]
    },
    {
      "cell_type": "markdown",
      "source": [
        "# **7. LDA ile Boyut İndirgeme**"
      ],
      "metadata": {
        "id": "9WAON9B8ogzV"
      }
    },
    {
      "cell_type": "markdown",
      "source": [
        "\n",
        "\n",
        "*   LDA: Sınıflar arası ayrımı maksimize eden doğrusal kombinasyonlar bulur.\n",
        "*  İkili sınıflandırma için en fazla 1 bileşen verir (sınıf sayısı − 1).\n",
        "\n"
      ],
      "metadata": {
        "id": "S1qowexHfL88"
      }
    },
    {
      "cell_type": "code",
      "source": [
        "# Win_Prob'u sınıfa çeviriyoruz (örnek: 0.5 üstü = 'kazanır')\n",
        "y_class = y.values\n",
        "\n",
        "from sklearn.discriminant_analysis import LinearDiscriminantAnalysis\n",
        "\n",
        "lda = LinearDiscriminantAnalysis()\n",
        "X_lda = lda.fit_transform(X_scaled, y_class)\n",
        "\n",
        "print(\"LDA sonrası boyut sayısı:\", X_lda.shape[1])\n"
      ],
      "metadata": {
        "colab": {
          "base_uri": "https://localhost:8080/"
        },
        "id": "JYBiIiclXBBF",
        "outputId": "2f069c74-341e-4f8e-e4db-c5336a7853e4"
      },
      "execution_count": 101,
      "outputs": [
        {
          "output_type": "stream",
          "name": "stdout",
          "text": [
            "LDA sonrası boyut sayısı: 1\n"
          ]
        }
      ]
    },
    {
      "cell_type": "markdown",
      "source": [
        "# **8. Özellik Seçimi (SelectKBest + mutual_info_classif)**"
      ],
      "metadata": {
        "id": "dBeNXG2-otWT"
      }
    },
    {
      "cell_type": "markdown",
      "source": [
        "Mutual information (karşılıklı bilgi) tabanlı en iyi 20 özelliği seçiyoruz. Bu, hedef değişkenle en fazla bağımlılığı taşıyan özellikleri belirler."
      ],
      "metadata": {
        "id": "xiVvJRRsm8tn"
      }
    },
    {
      "cell_type": "code",
      "source": [
        "from sklearn.feature_selection import SelectKBest, mutual_info_classif\n",
        "\n",
        "# En iyi 20 özelliği seçecek\n",
        "selector = SelectKBest(score_func=mutual_info_classif, k=15)\n",
        "X_selected = selector.fit_transform(X_scaled, y_class)\n",
        "\n",
        "# Seçilen sütun isimlerini görelim\n",
        "selected_columns = X.columns[selector.get_support()]\n",
        "print(\"Seçilen öznitelikler:\\n\", selected_columns)\n"
      ],
      "metadata": {
        "colab": {
          "base_uri": "https://localhost:8080/"
        },
        "id": "NF9kUlk_gdYM",
        "outputId": "1e3a9d1a-5a75-49cd-8b75-b62e76185407"
      },
      "execution_count": 102,
      "outputs": [
        {
          "output_type": "stream",
          "name": "stdout",
          "text": [
            "Seçilen öznitelikler:\n",
            " Index(['yrdline100', 'ydsnet', 'GoalToGo', 'Yards.Gained', 'sp',\n",
            "       'FieldGoalDistance', 'Opp_Field_Goal_Prob', 'Opp_Safety_Prob',\n",
            "       'Opp_Touchdown_Prob', 'Touchdown_Prob', 'ExpPts', 'EPA', 'yacEPA',\n",
            "       'WPA', 'yacWPA'],\n",
            "      dtype='object')\n"
          ]
        }
      ]
    },
    {
      "cell_type": "markdown",
      "source": [
        "# **10. SVM ile sınıflandırma ve değerlendirme**"
      ],
      "metadata": {
        "id": "RVwWqAOipjHb"
      }
    },
    {
      "cell_type": "markdown",
      "source": [
        "**train_test_split** ile veriyi %80 eğitim, %20 test olarak bölüyor.\n",
        "\n",
        "Kategorik değişken yoksa değişiklik olmuyor, ama pipeline genelleşti.\n",
        "\n",
        "**SVC (RBF kernel) ile sınıflandırma:** class_weight='balanced' dengesiz sınıflar için ağırlık atar.\n",
        "\n",
        "**predict_proba** ile olasılık çıktısı alınıp eşik değere (0.5) göre sınıf tahmini yapılıyor.\n",
        "\n",
        "Başarıyı; **doğruluk** (accuracy), **AUC**, **karışıklık matrisi** (confusion matrix) ve **sınıflandırma raporu** (precision/recall/f1) ile değerlendiriyoruz.\n",
        "\n",
        "**ROC** eğrisini çizerek modelin ayırt etme kabiliyetine bakıyoruz."
      ],
      "metadata": {
        "id": "UVlCyi555SrE"
      }
    },
    {
      "cell_type": "code",
      "source": [
        "from sklearn.svm import SVC\n",
        "from sklearn.metrics import (\n",
        "    confusion_matrix, accuracy_score, classification_report,\n",
        "    roc_curve, auc\n",
        ")\n",
        "from sklearn.model_selection import train_test_split\n",
        "import matplotlib.pyplot as plt\n",
        "import pandas as pd\n",
        "\n",
        "def SVMClassifierModel(X, y, threshold=0.5, name=\"Model\"):\n",
        "    # train/test split\n",
        "    X_train, X_test, y_train, y_test = train_test_split(\n",
        "        X, y, test_size=0.2, random_state=42\n",
        "    )\n",
        "    # one-hot (eğer kategorik yoksa zaten aynısı kalır)\n",
        "    X_train, X_test = pd.get_dummies(X_train, drop_first=True), pd.get_dummies(X_test, drop_first=True)\n",
        "    X_train, X_test = X_train.align(X_test, join='left', axis=1, fill_value=0)\n",
        "\n",
        "    # model\n",
        "    svm = SVC(kernel='rbf', C=1.0, gamma='scale',\n",
        "              probability=True, class_weight='balanced')\n",
        "    svm.fit(X_train, y_train)\n",
        "\n",
        "    # predict\n",
        "    y_proba = svm.predict_proba(X_test)[:,1]\n",
        "    y_pred = (y_proba >= threshold).astype(int)\n",
        "\n",
        "    # metrics\n",
        "    acc = accuracy_score(y_test, y_pred)\n",
        "    fpr, tpr, _ = roc_curve(y_test, y_proba)\n",
        "    roc_auc = auc(fpr, tpr)\n",
        "\n",
        "    print(f\"\\n==={name}===\\nAccuracy: {acc:.3f} — AUC: {roc_auc:.3f}\")\n",
        "    print(\"Confusion Matrix:\\n\", confusion_matrix(y_test, y_pred))\n",
        "    print(\"Classification Report:\\n\", classification_report(y_test, y_pred))\n",
        "\n",
        "    # ROC plot\n",
        "    plt.figure(figsize=(5,5))\n",
        "    plt.plot(fpr, tpr, label=f'{name} (AUC={roc_auc:.2f})')\n",
        "    plt.plot([0,1],[0,1],'--')\n",
        "    plt.title(f'ROC — {name}')\n",
        "    plt.xlabel('FPR'); plt.ylabel('TPR'); plt.legend(); plt.show()\n",
        "\n",
        "    return {'model': svm, 'accuracy': acc, 'auc': roc_auc}\n"
      ],
      "metadata": {
        "id": "cTlxsFc20b04"
      },
      "execution_count": 103,
      "outputs": []
    },
    {
      "cell_type": "markdown",
      "source": [
        "# **11. Tüm veri dönüşümlerinin karşılaştırmalı değerlendirmesi**"
      ],
      "metadata": {
        "id": "4UlJAmYP5uid"
      }
    },
    {
      "cell_type": "code",
      "source": [
        "# 1) Orijinal ölçekli veri\n",
        "X_orig = pd.DataFrame(X_scaled, columns=X.columns)\n",
        "y_cls  = y_class\n",
        "\n",
        "# 2) PCA ile\n",
        "X_pca_df = pd.DataFrame(X_pca, columns=[f'PC{i+1}' for i in range(X_pca.shape[1])])\n",
        "\n",
        "# 3) LDA ile\n",
        "X_lda_df = pd.DataFrame(X_lda, columns=[f'LD{i+1}' for i in range(X_lda.shape[1])])\n",
        "\n",
        "# 4) SelectKBest ile\n",
        "X_sel_df = pd.DataFrame(X_selected, columns=selected_columns)\n",
        "\n",
        "# Evaluate all\n",
        "results = {}\n",
        "results['Orijinal']        = SVMClassifierModel(X_orig,   y_cls, name='Orijinal')\n",
        "results['PCA']             = SVMClassifierModel(X_pca_df, y_cls, name='PCA')\n",
        "results['LDA']             = SVMClassifierModel(X_lda_df, y_cls, name='LDA')\n",
        "results['SelectKBest(20)'] = SVMClassifierModel(X_sel_df, y_cls, name='SelectKBest')\n",
        "\n"
      ],
      "metadata": {
        "colab": {
          "base_uri": "https://localhost:8080/",
          "height": 1000
        },
        "id": "GMJ5yhC-0ohA",
        "outputId": "e62c8d51-77c5-402d-c09d-663de59b6fcf"
      },
      "execution_count": 104,
      "outputs": [
        {
          "output_type": "stream",
          "name": "stdout",
          "text": [
            "\n",
            "===Orijinal===\n",
            "Accuracy: 0.998 — AUC: 1.000\n",
            "Confusion Matrix:\n",
            " [[3889    4]\n",
            " [   3  104]]\n",
            "Classification Report:\n",
            "               precision    recall  f1-score   support\n",
            "\n",
            "           0       1.00      1.00      1.00      3893\n",
            "           1       0.96      0.97      0.97       107\n",
            "\n",
            "    accuracy                           1.00      4000\n",
            "   macro avg       0.98      0.99      0.98      4000\n",
            "weighted avg       1.00      1.00      1.00      4000\n",
            "\n"
          ]
        },
        {
          "output_type": "display_data",
          "data": {
            "text/plain": [
              "<Figure size 500x500 with 1 Axes>"
            ],
            "image/png": "[encoded data removed]"
          },
          "metadata": {}
        },
        {
          "output_type": "stream",
          "name": "stdout",
          "text": [
            "\n",
            "===PCA===\n",
            "Accuracy: 0.998 — AUC: 1.000\n",
            "Confusion Matrix:\n",
            " [[3888    5]\n",
            " [   4  103]]\n",
            "Classification Report:\n",
            "               precision    recall  f1-score   support\n",
            "\n",
            "           0       1.00      1.00      1.00      3893\n",
            "           1       0.95      0.96      0.96       107\n",
            "\n",
            "    accuracy                           1.00      4000\n",
            "   macro avg       0.98      0.98      0.98      4000\n",
            "weighted avg       1.00      1.00      1.00      4000\n",
            "\n"
          ]
        },
        {
          "output_type": "display_data",
          "data": {
            "text/plain": [
              "<Figure size 500x500 with 1 Axes>"
            ],
            "image/png": "[encoded data removed]"
          },
          "metadata": {}
        },
        {
          "output_type": "stream",
          "name": "stdout",
          "text": [
            "\n",
            "===LDA===\n",
            "Accuracy: 0.999 — AUC: 0.999\n",
            "Confusion Matrix:\n",
            " [[3890    3]\n",
            " [   3  104]]\n",
            "Classification Report:\n",
            "               precision    recall  f1-score   support\n",
            "\n",
            "           0       1.00      1.00      1.00      3893\n",
            "           1       0.97      0.97      0.97       107\n",
            "\n",
            "    accuracy                           1.00      4000\n",
            "   macro avg       0.99      0.99      0.99      4000\n",
            "weighted avg       1.00      1.00      1.00      4000\n",
            "\n"
          ]
        },
        {
          "output_type": "display_data",
          "data": {
            "text/plain": [
              "<Figure size 500x500 with 1 Axes>"
            ],
            "image/png": "[encoded data removed]"
          },
          "metadata": {}
        },
        {
          "output_type": "stream",
          "name": "stdout",
          "text": [
            "\n",
            "===SelectKBest===\n",
            "Accuracy: 0.998 — AUC: 0.992\n",
            "Confusion Matrix:\n",
            " [[3890    3]\n",
            " [   5  102]]\n",
            "Classification Report:\n",
            "               precision    recall  f1-score   support\n",
            "\n",
            "           0       1.00      1.00      1.00      3893\n",
            "           1       0.97      0.95      0.96       107\n",
            "\n",
            "    accuracy                           1.00      4000\n",
            "   macro avg       0.99      0.98      0.98      4000\n",
            "weighted avg       1.00      1.00      1.00      4000\n",
            "\n"
          ]
        },
        {
          "output_type": "display_data",
          "data": {
            "text/plain": [
              "<Figure size 500x500 with 1 Axes>"
            ],
            "image/png": "[encoded data removed]"
          },
          "metadata": {}
        }
      ]
    },
    {
      "cell_type": "markdown",
      "source": [
        "**Neden bu adımlar?**\n",
        "\n",
        "---\n",
        "\n",
        "\n",
        "Eksik verileri MICE ile doldurmak, basit yöntemlere göre (ortalama, medyan) daha tutarlı sonuç verir.\n",
        "\n",
        "Ölçeklendirme, SVM ve PCA gibi yöntemler için şarttır; aksi halde farklı ölçeklerdeki özellikler baskın olur.\n",
        "\n",
        "Boyut indirgeme (PCA, LDA) ve özellik seçimi (SelectKBest) modeli hem hızlandırır hem de gürültüyü azaltarak genelleme kabiliyetini artırabilir.\n",
        "\n",
        "SVM dengeli sınıflandırma yeteneği ve güçlü ayırt etme kabiliyeti ile bu tür ikili sınıflandırma problemlerinde sık kullanılır.\n",
        "\n",
        "ROC/AUC tek bir eşik değere bağlı kalmadan modelin tüm eşiklerdeki performansını özetler."
      ],
      "metadata": {
        "id": "0vaqiTVZ5_t6"
      }
    }
  ]
}